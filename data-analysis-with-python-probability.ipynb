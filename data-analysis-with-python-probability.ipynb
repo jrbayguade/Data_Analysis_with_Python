{
 "cells": [
  {
   "cell_type": "code",
   "execution_count": 3,
   "id": "2106f00d",
   "metadata": {
    "_cell_guid": "b1076dfc-b9ad-4769-8c92-a6c4dae69d19",
    "_uuid": "8f2839f25d086af736a60e9eeb907d3b93b6e0e5",
    "execution": {
     "iopub.execute_input": "2025-04-26T23:14:57.375138Z",
     "iopub.status.busy": "2025-04-26T23:14:57.374673Z",
     "iopub.status.idle": "2025-04-26T23:14:59.480549Z",
     "shell.execute_reply": "2025-04-26T23:14:59.479363Z"
    },
    "papermill": {
     "duration": 2.113542,
     "end_time": "2025-04-26T23:14:59.482310",
     "exception": false,
     "start_time": "2025-04-26T23:14:57.368768",
     "status": "completed"
    },
    "tags": []
   },
   "outputs": [],
   "source": [
    "import numpy as np # linear algebra\n",
    "import pandas as pd # data processing, CSV file I/O (e.g. pd.read_csv)"
   ]
  },
  {
   "cell_type": "markdown",
   "id": "97ee60e2",
   "metadata": {
    "papermill": {
     "duration": 0.003656,
     "end_time": "2025-04-26T23:14:59.489875",
     "exception": false,
     "start_time": "2025-04-26T23:14:59.486219",
     "status": "completed"
    },
    "tags": []
   },
   "source": [
    "# **Coin exercise**\n",
    "\n",
    "Let's do some experiments with a coin and the Laplace rule"
   ]
  },
  {
   "cell_type": "code",
   "execution_count": 4,
   "id": "785b68aa",
   "metadata": {
    "execution": {
     "iopub.execute_input": "2025-04-26T23:14:59.498393Z",
     "iopub.status.busy": "2025-04-26T23:14:59.497910Z",
     "iopub.status.idle": "2025-04-26T23:14:59.502670Z",
     "shell.execute_reply": "2025-04-26T23:14:59.501546Z"
    },
    "papermill": {
     "duration": 0.011191,
     "end_time": "2025-04-26T23:14:59.504646",
     "exception": false,
     "start_time": "2025-04-26T23:14:59.493455",
     "status": "completed"
    },
    "tags": []
   },
   "outputs": [],
   "source": [
    "import numpy as np\n",
    "import random "
   ]
  },
  {
   "cell_type": "code",
   "execution_count": 5,
   "id": "c88fa1cb",
   "metadata": {
    "execution": {
     "iopub.execute_input": "2025-04-26T23:14:59.513075Z",
     "iopub.status.busy": "2025-04-26T23:14:59.512742Z",
     "iopub.status.idle": "2025-04-26T23:14:59.521766Z",
     "shell.execute_reply": "2025-04-26T23:14:59.520655Z"
    },
    "papermill": {
     "duration": 0.015215,
     "end_time": "2025-04-26T23:14:59.523719",
     "exception": false,
     "start_time": "2025-04-26T23:14:59.508504",
     "status": "completed"
    },
    "tags": []
   },
   "outputs": [
    {
     "name": "stdout",
     "output_type": "stream",
     "text": [
      "Result random experiment: [0 0 1 ... 1 0 0]\n"
     ]
    }
   ],
   "source": [
    "value_range = 2\n",
    "experiments_number = 2000 # The more times we run the experiment, the closest it will get to our probability estimation\n",
    "\n",
    "\n",
    "result = np.random.randint(value_range, size=experiments_number) # random number between 0 and n-1\n",
    "\n",
    "print(f\"Result random experiment: {result}\")"
   ]
  },
  {
   "cell_type": "code",
   "execution_count": 6,
   "id": "a3b750bd",
   "metadata": {
    "execution": {
     "iopub.execute_input": "2025-04-26T23:14:59.533005Z",
     "iopub.status.busy": "2025-04-26T23:14:59.532671Z",
     "iopub.status.idle": "2025-04-26T23:14:59.539724Z",
     "shell.execute_reply": "2025-04-26T23:14:59.538856Z"
    },
    "papermill": {
     "duration": 0.013864,
     "end_time": "2025-04-26T23:14:59.541209",
     "exception": false,
     "start_time": "2025-04-26T23:14:59.527345",
     "status": "completed"
    },
    "tags": []
   },
   "outputs": [
    {
     "data": {
      "text/plain": [
       "0.5145"
      ]
     },
     "execution_count": 6,
     "metadata": {},
     "output_type": "execute_result"
    }
   ],
   "source": [
    "np.count_nonzero(result)/experiments_number"
   ]
  },
  {
   "cell_type": "code",
   "execution_count": 7,
   "id": "173c0eb7",
   "metadata": {
    "execution": {
     "iopub.execute_input": "2025-04-26T23:14:59.549745Z",
     "iopub.status.busy": "2025-04-26T23:14:59.549410Z",
     "iopub.status.idle": "2025-04-26T23:14:59.555928Z",
     "shell.execute_reply": "2025-04-26T23:14:59.555003Z"
    },
    "papermill": {
     "duration": 0.013035,
     "end_time": "2025-04-26T23:14:59.557904",
     "exception": false,
     "start_time": "2025-04-26T23:14:59.544869",
     "status": "completed"
    },
    "tags": []
   },
   "outputs": [
    {
     "data": {
      "text/plain": [
       "np.float64(0.5145)"
      ]
     },
     "execution_count": 7,
     "metadata": {},
     "output_type": "execute_result"
    }
   ],
   "source": [
    "result.mean()"
   ]
  },
  {
   "cell_type": "code",
   "execution_count": 8,
   "id": "cf25b13a",
   "metadata": {
    "execution": {
     "iopub.execute_input": "2025-04-26T23:14:59.568291Z",
     "iopub.status.busy": "2025-04-26T23:14:59.567917Z",
     "iopub.status.idle": "2025-04-26T23:14:59.574996Z",
     "shell.execute_reply": "2025-04-26T23:14:59.574021Z"
    },
    "papermill": {
     "duration": 0.014718,
     "end_time": "2025-04-26T23:14:59.576595",
     "exception": false,
     "start_time": "2025-04-26T23:14:59.561877",
     "status": "completed"
    },
    "tags": []
   },
   "outputs": [
    {
     "data": {
      "text/plain": [
       "2000"
      ]
     },
     "execution_count": 8,
     "metadata": {},
     "output_type": "execute_result"
    }
   ],
   "source": [
    "# this obviously needs to be equal to the number of experiments\n",
    "np.count_nonzero(result==0) + np.count_nonzero(result==1) "
   ]
  },
  {
   "cell_type": "code",
   "execution_count": 9,
   "id": "5a1e41d9",
   "metadata": {
    "execution": {
     "iopub.execute_input": "2025-04-26T23:14:59.586741Z",
     "iopub.status.busy": "2025-04-26T23:14:59.585883Z",
     "iopub.status.idle": "2025-04-26T23:14:59.592078Z",
     "shell.execute_reply": "2025-04-26T23:14:59.591106Z"
    },
    "papermill": {
     "duration": 0.012624,
     "end_time": "2025-04-26T23:14:59.593633",
     "exception": false,
     "start_time": "2025-04-26T23:14:59.581009",
     "status": "completed"
    },
    "tags": []
   },
   "outputs": [
    {
     "data": {
      "text/plain": [
       "0.4855"
      ]
     },
     "execution_count": 9,
     "metadata": {},
     "output_type": "execute_result"
    }
   ],
   "source": [
    "np.count_nonzero(result==0)/experiments_number"
   ]
  },
  {
   "cell_type": "code",
   "execution_count": 10,
   "id": "1cfc8f4f",
   "metadata": {
    "execution": {
     "iopub.execute_input": "2025-04-26T23:14:59.603058Z",
     "iopub.status.busy": "2025-04-26T23:14:59.602706Z",
     "iopub.status.idle": "2025-04-26T23:14:59.608785Z",
     "shell.execute_reply": "2025-04-26T23:14:59.607914Z"
    },
    "papermill": {
     "duration": 0.012645,
     "end_time": "2025-04-26T23:14:59.610419",
     "exception": false,
     "start_time": "2025-04-26T23:14:59.597774",
     "status": "completed"
    },
    "tags": []
   },
   "outputs": [
    {
     "data": {
      "text/plain": [
       "0.5145"
      ]
     },
     "execution_count": 10,
     "metadata": {},
     "output_type": "execute_result"
    }
   ],
   "source": [
    "# We can see in a practical way what complimentary events are\n",
    "1-np.count_nonzero(result==0)/experiments_number"
   ]
  },
  {
   "cell_type": "code",
   "execution_count": 11,
   "id": "99faf382",
   "metadata": {
    "execution": {
     "iopub.execute_input": "2025-04-26T23:14:59.620119Z",
     "iopub.status.busy": "2025-04-26T23:14:59.619780Z",
     "iopub.status.idle": "2025-04-26T23:14:59.626192Z",
     "shell.execute_reply": "2025-04-26T23:14:59.625278Z"
    },
    "papermill": {
     "duration": 0.013513,
     "end_time": "2025-04-26T23:14:59.627896",
     "exception": false,
     "start_time": "2025-04-26T23:14:59.614383",
     "status": "completed"
    },
    "tags": []
   },
   "outputs": [],
   "source": [
    "# If the probabilities in p do not sum to 1, an error will be raised\n",
    "newsize = 10000\n",
    "\n",
    "newresult = np.random.choice([0,1], p=[0.2,0.8], size=newsize)\n",
    "\n",
    "# Obviously, the probability of the entire sample space must sum to 1; otherwise, an error will occur"
   ]
  },
  {
   "cell_type": "code",
   "execution_count": 12,
   "id": "0c862254",
   "metadata": {
    "execution": {
     "iopub.execute_input": "2025-04-26T23:14:59.637103Z",
     "iopub.status.busy": "2025-04-26T23:14:59.636760Z",
     "iopub.status.idle": "2025-04-26T23:14:59.643017Z",
     "shell.execute_reply": "2025-04-26T23:14:59.641991Z"
    },
    "papermill": {
     "duration": 0.012645,
     "end_time": "2025-04-26T23:14:59.644514",
     "exception": false,
     "start_time": "2025-04-26T23:14:59.631869",
     "status": "completed"
    },
    "tags": []
   },
   "outputs": [
    {
     "data": {
      "text/plain": [
       "0.2018"
      ]
     },
     "execution_count": 12,
     "metadata": {},
     "output_type": "execute_result"
    }
   ],
   "source": [
    "# The result must be very similar to the probability established above\n",
    "np.count_nonzero(newresult==0)/newsize"
   ]
  },
  {
   "cell_type": "markdown",
   "id": "2f9ae167",
   "metadata": {
    "papermill": {
     "duration": 0.003612,
     "end_time": "2025-04-26T23:14:59.652270",
     "exception": false,
     "start_time": "2025-04-26T23:14:59.648658",
     "status": "completed"
    },
    "tags": []
   },
   "source": [
    "# **Dice exercise**\n",
    "\n",
    "Create a random event that throws a dice with 6 sides (entire sample = 1 to 6)\n",
    "\n",
    "What is the probability of obtining the number 3?"
   ]
  },
  {
   "cell_type": "code",
   "execution_count": 13,
   "id": "09d3d117",
   "metadata": {
    "execution": {
     "iopub.execute_input": "2025-04-26T23:14:59.661109Z",
     "iopub.status.busy": "2025-04-26T23:14:59.660785Z",
     "iopub.status.idle": "2025-04-26T23:14:59.667272Z",
     "shell.execute_reply": "2025-04-26T23:14:59.666266Z"
    },
    "papermill": {
     "duration": 0.012628,
     "end_time": "2025-04-26T23:14:59.668734",
     "exception": false,
     "start_time": "2025-04-26T23:14:59.656106",
     "status": "completed"
    },
    "tags": []
   },
   "outputs": [
    {
     "name": "stdout",
     "output_type": "stream",
     "text": [
      "Result random experiment: [2 1 2 ... 1 1 4]\n",
      "Probability of obtaining 3: 0.16568\n"
     ]
    }
   ],
   "source": [
    "experiments_number = 50000\n",
    "\n",
    "# Random int between 1 and 6\n",
    "result = np.random.randint(1, 7, size=experiments_number)\n",
    "print(f\"Result random experiment: {result}\")\n",
    "\n",
    "# Probability of obtaining 3 (according to Laplace's rule)\n",
    "prob = np.count_nonzero(result==3)/experiments_number\n",
    "print(f\"Probability of obtaining 3: {prob}\")\n",
    "# P=1/6 = 1.666"
   ]
  },
  {
   "cell_type": "code",
   "execution_count": 14,
   "id": "befdaa4d",
   "metadata": {
    "execution": {
     "iopub.execute_input": "2025-04-26T23:14:59.678386Z",
     "iopub.status.busy": "2025-04-26T23:14:59.677968Z",
     "iopub.status.idle": "2025-04-26T23:14:59.928142Z",
     "shell.execute_reply": "2025-04-26T23:14:59.927121Z"
    },
    "papermill": {
     "duration": 0.256896,
     "end_time": "2025-04-26T23:14:59.929740",
     "exception": false,
     "start_time": "2025-04-26T23:14:59.672844",
     "status": "completed"
    },
    "tags": []
   },
   "outputs": [
    {
     "data": {
      "image/png": "[encoded data removed]",
      "text/plain": [
       "<Figure size 640x480 with 1 Axes>"
      ]
     },
     "metadata": {},
     "output_type": "display_data"
    }
   ],
   "source": [
    "import matplotlib.pyplot as plt\n",
    "# Plot histogram. As we can see the theoretical probability for each number is the same, and the \"practice\" \n",
    "# should be close to it\n",
    "plt.hist(result, bins=np.arange(1, value_range + 2) - 0.5, edgecolor='black', rwidth=0.8)\n",
    "plt.title('Histogram of Dice Rolls')\n",
    "plt.xlabel('Dice Face')\n",
    "plt.ylabel('Frequency')\n",
    "plt.xticks(range(1, value_range + 1))\n",
    "plt.grid(axis='y', linestyle='--', alpha=0.7)\n",
    "plt.show()"
   ]
  },
  {
   "cell_type": "markdown",
   "id": "4a1149f3",
   "metadata": {
    "papermill": {
     "duration": 0.004816,
     "end_time": "2025-04-26T23:14:59.939130",
     "exception": false,
     "start_time": "2025-04-26T23:14:59.934314",
     "status": "completed"
    },
    "tags": []
   },
   "source": [
    "What is the probability of obtaining an even number?"
   ]
  },
  {
   "cell_type": "code",
   "execution_count": 15,
   "id": "b3ec0a00",
   "metadata": {
    "execution": {
     "iopub.execute_input": "2025-04-26T23:14:59.949293Z",
     "iopub.status.busy": "2025-04-26T23:14:59.948922Z",
     "iopub.status.idle": "2025-04-26T23:14:59.956068Z",
     "shell.execute_reply": "2025-04-26T23:14:59.955174Z"
    },
    "papermill": {
     "duration": 0.014048,
     "end_time": "2025-04-26T23:14:59.957563",
     "exception": false,
     "start_time": "2025-04-26T23:14:59.943515",
     "status": "completed"
    },
    "tags": []
   },
   "outputs": [
    {
     "name": "stdout",
     "output_type": "stream",
     "text": [
      "Result random experiment: [5 4 5 ... 1 3 4]\n",
      "Probability of obtaining even: 0.50028\n"
     ]
    }
   ],
   "source": [
    "# The even numbers on a dice are 2, 4, 6, the odd are obviously 1, 3, 5\n",
    "# By Laplace's rule (and logic), P(even number) = 0.5. Let's see if that is true with some experiments\n",
    "experiments_number = 50000\n",
    "\n",
    "# Random int between 1 and 6\n",
    "result = np.random.randint(1, 7, size=experiments_number)\n",
    "print(f\"Result random experiment: {result}\")\n",
    "\n",
    "# Probability of obtaining 2,4,6 (according to Laplace's rule)\n",
    "prob = (np.count_nonzero(result==2) + np.count_nonzero(result==4) + np.count_nonzero(result==6))/experiments_number\n",
    "print(f\"Probability of obtaining even: {prob}\")\n",
    "# P=3/6 = 0.5"
   ]
  },
  {
   "cell_type": "markdown",
   "id": "a1d9a116",
   "metadata": {
    "papermill": {
     "duration": 0.004338,
     "end_time": "2025-04-26T23:14:59.966563",
     "exception": false,
     "start_time": "2025-04-26T23:14:59.962225",
     "status": "completed"
    },
    "tags": []
   },
   "source": [
    "What is the probability of obtaining a number smaller than 3?"
   ]
  },
  {
   "cell_type": "code",
   "execution_count": 16,
   "id": "3a5c1e1c",
   "metadata": {
    "execution": {
     "iopub.execute_input": "2025-04-26T23:14:59.976544Z",
     "iopub.status.busy": "2025-04-26T23:14:59.976253Z",
     "iopub.status.idle": "2025-04-26T23:14:59.982530Z",
     "shell.execute_reply": "2025-04-26T23:14:59.981638Z"
    },
    "papermill": {
     "duration": 0.013062,
     "end_time": "2025-04-26T23:14:59.983891",
     "exception": false,
     "start_time": "2025-04-26T23:14:59.970829",
     "status": "completed"
    },
    "tags": []
   },
   "outputs": [
    {
     "name": "stdout",
     "output_type": "stream",
     "text": [
      "Probability of obtaining even: 0.33532\n"
     ]
    }
   ],
   "source": [
    "# Well the dice has 6 numbers... and we are being asked P(X<3), that means the sample space = {1, 2}\n",
    "# thus according to Laplace's rule P(X<3)=2/6=0.333. Let's see if the experiments tells us the same story:\n",
    "experiments_number = 50000\n",
    "\n",
    "# Probability of obtaining 1,2,3,4,5 (according to Laplace's rule)\n",
    "prob = (np.count_nonzero(result==1) \n",
    "        + np.count_nonzero(result==2))/experiments_number\n",
    "print(f\"Probability of obtaining even: {prob}\") # and that meets the expectations!"
   ]
  }
 ],
 "metadata": {
  "kaggle": {
   "accelerator": "none",
   "dataSources": [],
   "dockerImageVersionId": 31012,
   "isGpuEnabled": false,
   "isInternetEnabled": true,
   "language": "python",
   "sourceType": "notebook"
  },
  "kernelspec": {
   "display_name": "Python 3",
   "language": "python",
   "name": "python3"
  },
  "language_info": {
   "codemirror_mode": {
    "name": "ipython",
    "version": 3
   },
   "file_extension": ".py",
   "mimetype": "text/x-python",
   "name": "python",
   "nbconvert_exporter": "python",
   "pygments_lexer": "ipython3",
   "version": "3.13.1"
  },
  "papermill": {
   "default_parameters": {},
   "duration": 8.149676,
   "end_time": "2025-04-26T23:15:00.508703",
   "environment_variables": {},
   "exception": null,
   "input_path": "__notebook__.ipynb",
   "output_path": "__notebook__.ipynb",
   "parameters": {},
   "start_time": "2025-04-26T23:14:52.359027",
   "version": "2.6.0"
  }
 },
 "nbformat": 4,
 "nbformat_minor": 5
}
