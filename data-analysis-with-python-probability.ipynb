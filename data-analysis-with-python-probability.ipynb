{
 "cells": [
  {
   "cell_type": "code",
   "execution_count": 1,
   "id": "2246942b",
   "metadata": {
    "_cell_guid": "b1076dfc-b9ad-4769-8c92-a6c4dae69d19",
    "_uuid": "8f2839f25d086af736a60e9eeb907d3b93b6e0e5",
    "execution": {
     "iopub.execute_input": "2025-04-26T23:00:24.623401Z",
     "iopub.status.busy": "2025-04-26T23:00:24.622991Z",
     "iopub.status.idle": "2025-04-26T23:00:26.796243Z",
     "shell.execute_reply": "2025-04-26T23:00:26.795250Z"
    },
    "papermill": {
     "duration": 2.180571,
     "end_time": "2025-04-26T23:00:26.798225",
     "exception": false,
     "start_time": "2025-04-26T23:00:24.617654",
     "status": "completed"
    },
    "tags": []
   },
   "outputs": [],
   "source": [
    "# This Python 3 environment comes with many helpful analytics libraries installed\n",
    "# It is defined by the kaggle/python Docker image: https://github.com/kaggle/docker-python\n",
    "# For example, here's several helpful packages to load\n",
    "\n",
    "import numpy as np # linear algebra\n",
    "import pandas as pd # data processing, CSV file I/O (e.g. pd.read_csv)\n",
    "\n",
    "# Input data files are available in the read-only \"../input/\" directory\n",
    "# For example, running this (by clicking run or pressing Shift+Enter) will list all files under the input directory\n",
    "\n",
    "import os\n",
    "for dirname, _, filenames in os.walk('/kaggle/input'):\n",
    "    for filename in filenames:\n",
    "        print(os.path.join(dirname, filename))\n",
    "\n",
    "# You can write up to 20GB to the current directory (/kaggle/working/) that gets preserved as output when you create a version using \"Save & Run All\" \n",
    "# You can also write temporary files to /kaggle/temp/, but they won't be saved outside of the current session"
   ]
  },
  {
   "cell_type": "markdown",
   "id": "721f5080",
   "metadata": {
    "papermill": {
     "duration": 0.003106,
     "end_time": "2025-04-26T23:00:26.804712",
     "exception": false,
     "start_time": "2025-04-26T23:00:26.801606",
     "status": "completed"
    },
    "tags": []
   },
   "source": [
    "# **Coin exercise**\n",
    "\n",
    "Let's do some experiments with a coin and the Laplace rule"
   ]
  },
  {
   "cell_type": "code",
   "execution_count": 2,
   "id": "5e83201c",
   "metadata": {
    "execution": {
     "iopub.execute_input": "2025-04-26T23:00:26.811823Z",
     "iopub.status.busy": "2025-04-26T23:00:26.811374Z",
     "iopub.status.idle": "2025-04-26T23:00:26.815987Z",
     "shell.execute_reply": "2025-04-26T23:00:26.815231Z"
    },
    "papermill": {
     "duration": 0.010068,
     "end_time": "2025-04-26T23:00:26.817726",
     "exception": false,
     "start_time": "2025-04-26T23:00:26.807658",
     "status": "completed"
    },
    "tags": []
   },
   "outputs": [],
   "source": [
    "import numpy as np\n",
    "import random "
   ]
  },
  {
   "cell_type": "code",
   "execution_count": 3,
   "id": "517e4db2",
   "metadata": {
    "execution": {
     "iopub.execute_input": "2025-04-26T23:00:26.824834Z",
     "iopub.status.busy": "2025-04-26T23:00:26.824543Z",
     "iopub.status.idle": "2025-04-26T23:00:26.832946Z",
     "shell.execute_reply": "2025-04-26T23:00:26.831965Z"
    },
    "papermill": {
     "duration": 0.013621,
     "end_time": "2025-04-26T23:00:26.834388",
     "exception": false,
     "start_time": "2025-04-26T23:00:26.820767",
     "status": "completed"
    },
    "tags": []
   },
   "outputs": [
    {
     "name": "stdout",
     "output_type": "stream",
     "text": [
      "Result random experiment: [1 0 0 ... 0 1 1]\n"
     ]
    }
   ],
   "source": [
    "value_range = 2\n",
    "experiments_number = 2000 # The more times we run the experiment, the closest it will get to our probability estimation\n",
    "\n",
    "\n",
    "result = np.random.randint(value_range, size=experiments_number) # random number between 0 and n-1\n",
    "\n",
    "print(f\"Result random experiment: {result}\")"
   ]
  },
  {
   "cell_type": "code",
   "execution_count": 4,
   "id": "b95a5304",
   "metadata": {
    "execution": {
     "iopub.execute_input": "2025-04-26T23:00:26.842051Z",
     "iopub.status.busy": "2025-04-26T23:00:26.841673Z",
     "iopub.status.idle": "2025-04-26T23:00:26.848474Z",
     "shell.execute_reply": "2025-04-26T23:00:26.847537Z"
    },
    "papermill": {
     "duration": 0.012904,
     "end_time": "2025-04-26T23:00:26.850275",
     "exception": false,
     "start_time": "2025-04-26T23:00:26.837371",
     "status": "completed"
    },
    "tags": []
   },
   "outputs": [
    {
     "data": {
      "text/plain": [
       "0.497"
      ]
     },
     "execution_count": 4,
     "metadata": {},
     "output_type": "execute_result"
    }
   ],
   "source": [
    "np.count_nonzero(result)/experiments_number"
   ]
  },
  {
   "cell_type": "code",
   "execution_count": 5,
   "id": "b29574ad",
   "metadata": {
    "execution": {
     "iopub.execute_input": "2025-04-26T23:00:26.857686Z",
     "iopub.status.busy": "2025-04-26T23:00:26.857356Z",
     "iopub.status.idle": "2025-04-26T23:00:26.863473Z",
     "shell.execute_reply": "2025-04-26T23:00:26.862558Z"
    },
    "papermill": {
     "duration": 0.011616,
     "end_time": "2025-04-26T23:00:26.864990",
     "exception": false,
     "start_time": "2025-04-26T23:00:26.853374",
     "status": "completed"
    },
    "tags": []
   },
   "outputs": [
    {
     "data": {
      "text/plain": [
       "0.497"
      ]
     },
     "execution_count": 5,
     "metadata": {},
     "output_type": "execute_result"
    }
   ],
   "source": [
    "result.mean()"
   ]
  },
  {
   "cell_type": "code",
   "execution_count": 6,
   "id": "95968582",
   "metadata": {
    "execution": {
     "iopub.execute_input": "2025-04-26T23:00:26.873901Z",
     "iopub.status.busy": "2025-04-26T23:00:26.873611Z",
     "iopub.status.idle": "2025-04-26T23:00:26.880449Z",
     "shell.execute_reply": "2025-04-26T23:00:26.879482Z"
    },
    "papermill": {
     "duration": 0.012771,
     "end_time": "2025-04-26T23:00:26.882341",
     "exception": false,
     "start_time": "2025-04-26T23:00:26.869570",
     "status": "completed"
    },
    "tags": []
   },
   "outputs": [
    {
     "data": {
      "text/plain": [
       "2000"
      ]
     },
     "execution_count": 6,
     "metadata": {},
     "output_type": "execute_result"
    }
   ],
   "source": [
    "# this obviously needs to be equal to the number of experiments\n",
    "np.count_nonzero(result==0) + np.count_nonzero(result==1) "
   ]
  },
  {
   "cell_type": "code",
   "execution_count": 7,
   "id": "d2740ea1",
   "metadata": {
    "execution": {
     "iopub.execute_input": "2025-04-26T23:00:26.890018Z",
     "iopub.status.busy": "2025-04-26T23:00:26.889738Z",
     "iopub.status.idle": "2025-04-26T23:00:26.896813Z",
     "shell.execute_reply": "2025-04-26T23:00:26.895563Z"
    },
    "papermill": {
     "duration": 0.012871,
     "end_time": "2025-04-26T23:00:26.898456",
     "exception": false,
     "start_time": "2025-04-26T23:00:26.885585",
     "status": "completed"
    },
    "tags": []
   },
   "outputs": [
    {
     "data": {
      "text/plain": [
       "0.503"
      ]
     },
     "execution_count": 7,
     "metadata": {},
     "output_type": "execute_result"
    }
   ],
   "source": [
    "np.count_nonzero(result==0)/experiments_number"
   ]
  },
  {
   "cell_type": "code",
   "execution_count": 8,
   "id": "33001f6a",
   "metadata": {
    "execution": {
     "iopub.execute_input": "2025-04-26T23:00:26.906439Z",
     "iopub.status.busy": "2025-04-26T23:00:26.906087Z",
     "iopub.status.idle": "2025-04-26T23:00:26.912433Z",
     "shell.execute_reply": "2025-04-26T23:00:26.911588Z"
    },
    "papermill": {
     "duration": 0.012543,
     "end_time": "2025-04-26T23:00:26.914373",
     "exception": false,
     "start_time": "2025-04-26T23:00:26.901830",
     "status": "completed"
    },
    "tags": []
   },
   "outputs": [
    {
     "data": {
      "text/plain": [
       "0.497"
      ]
     },
     "execution_count": 8,
     "metadata": {},
     "output_type": "execute_result"
    }
   ],
   "source": [
    "# We can see in a practical way what complimentary events are\n",
    "1-np.count_nonzero(result==0)/experiments_number"
   ]
  },
  {
   "cell_type": "code",
   "execution_count": 9,
   "id": "c58eeb64",
   "metadata": {
    "execution": {
     "iopub.execute_input": "2025-04-26T23:00:26.923436Z",
     "iopub.status.busy": "2025-04-26T23:00:26.922333Z",
     "iopub.status.idle": "2025-04-26T23:00:26.929586Z",
     "shell.execute_reply": "2025-04-26T23:00:26.928351Z"
    },
    "papermill": {
     "duration": 0.013797,
     "end_time": "2025-04-26T23:00:26.931620",
     "exception": false,
     "start_time": "2025-04-26T23:00:26.917823",
     "status": "completed"
    },
    "tags": []
   },
   "outputs": [],
   "source": [
    "# If the probabilities in p do not sum to 1, an error will be raised\n",
    "newsize = 10000\n",
    "\n",
    "newresult = np.random.choice([0,1], p=[0.2,0.8], size=newsize)\n",
    "\n",
    "# Obviously, the probability of the entire sample space must sum to 1; otherwise, an error will occur"
   ]
  },
  {
   "cell_type": "code",
   "execution_count": 10,
   "id": "623e9b2e",
   "metadata": {
    "execution": {
     "iopub.execute_input": "2025-04-26T23:00:26.940313Z",
     "iopub.status.busy": "2025-04-26T23:00:26.939398Z",
     "iopub.status.idle": "2025-04-26T23:00:26.945959Z",
     "shell.execute_reply": "2025-04-26T23:00:26.945062Z"
    },
    "papermill": {
     "duration": 0.012723,
     "end_time": "2025-04-26T23:00:26.947743",
     "exception": false,
     "start_time": "2025-04-26T23:00:26.935020",
     "status": "completed"
    },
    "tags": []
   },
   "outputs": [
    {
     "data": {
      "text/plain": [
       "0.2004"
      ]
     },
     "execution_count": 10,
     "metadata": {},
     "output_type": "execute_result"
    }
   ],
   "source": [
    "# The result must be very similar to the probability established above\n",
    "np.count_nonzero(newresult==0)/newsize"
   ]
  },
  {
   "cell_type": "markdown",
   "id": "a5c22a97",
   "metadata": {
    "papermill": {
     "duration": 0.003301,
     "end_time": "2025-04-26T23:00:26.954843",
     "exception": false,
     "start_time": "2025-04-26T23:00:26.951542",
     "status": "completed"
    },
    "tags": []
   },
   "source": [
    "# **Dice exercise**\n",
    "\n",
    "Create a random event that throws a dice with 6 sides (entire sample = 1 to 6)\n",
    "\n",
    "What is the probability of obtining the number 3?"
   ]
  },
  {
   "cell_type": "code",
   "execution_count": 11,
   "id": "5114be5c",
   "metadata": {
    "execution": {
     "iopub.execute_input": "2025-04-26T23:00:26.963616Z",
     "iopub.status.busy": "2025-04-26T23:00:26.963260Z",
     "iopub.status.idle": "2025-04-26T23:00:26.970938Z",
     "shell.execute_reply": "2025-04-26T23:00:26.969449Z"
    },
    "papermill": {
     "duration": 0.014098,
     "end_time": "2025-04-26T23:00:26.972838",
     "exception": false,
     "start_time": "2025-04-26T23:00:26.958740",
     "status": "completed"
    },
    "tags": []
   },
   "outputs": [
    {
     "name": "stdout",
     "output_type": "stream",
     "text": [
      "Result random experiment: [6 4 5 ... 2 1 6]\n",
      "Probability of obtaining 3: 0.16878\n"
     ]
    }
   ],
   "source": [
    "experiments_number = 50000\n",
    "\n",
    "# Random int between 1 and 6\n",
    "result = np.random.randint(1, 7, size=experiments_number)\n",
    "print(f\"Result random experiment: {result}\")\n",
    "\n",
    "# Probability of obtaining 3 (according to Laplace's rule)\n",
    "prob = np.count_nonzero(result==3)/experiments_number\n",
    "print(f\"Probability of obtaining 3: {prob}\")\n",
    "# P=1/6 = 1.666"
   ]
  }
 ],
 "metadata": {
  "kaggle": {
   "accelerator": "none",
   "dataSources": [],
   "dockerImageVersionId": 31012,
   "isGpuEnabled": false,
   "isInternetEnabled": true,
   "language": "python",
   "sourceType": "notebook"
  },
  "kernelspec": {
   "display_name": "Python 3",
   "language": "python",
   "name": "python3"
  },
  "language_info": {
   "codemirror_mode": {
    "name": "ipython",
    "version": 3
   },
   "file_extension": ".py",
   "mimetype": "text/x-python",
   "name": "python",
   "nbconvert_exporter": "python",
   "pygments_lexer": "ipython3",
   "version": "3.11.11"
  },
  "papermill": {
   "default_parameters": {},
   "duration": 8.307438,
   "end_time": "2025-04-26T23:00:27.497257",
   "environment_variables": {},
   "exception": null,
   "input_path": "__notebook__.ipynb",
   "output_path": "__notebook__.ipynb",
   "parameters": {},
   "start_time": "2025-04-26T23:00:19.189819",
   "version": "2.6.0"
  }
 },
 "nbformat": 4,
 "nbformat_minor": 5
}
