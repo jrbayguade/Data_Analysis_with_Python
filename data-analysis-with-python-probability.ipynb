{
 "cells": [
  {
   "cell_type": "code",
   "execution_count": 363,
   "id": "2106f00d",
   "metadata": {
    "_cell_guid": "b1076dfc-b9ad-4769-8c92-a6c4dae69d19",
    "_uuid": "8f2839f25d086af736a60e9eeb907d3b93b6e0e5",
    "execution": {
     "iopub.execute_input": "2025-04-26T23:14:57.375138Z",
     "iopub.status.busy": "2025-04-26T23:14:57.374673Z",
     "iopub.status.idle": "2025-04-26T23:14:59.480549Z",
     "shell.execute_reply": "2025-04-26T23:14:59.479363Z"
    },
    "papermill": {
     "duration": 2.113542,
     "end_time": "2025-04-26T23:14:59.482310",
     "exception": false,
     "start_time": "2025-04-26T23:14:57.368768",
     "status": "completed"
    },
    "tags": []
   },
   "outputs": [],
   "source": [
    "import numpy as np # linear algebra\n",
    "import pandas as pd # data processing, CSV file I/O (e.g. pd.read_csv)"
   ]
  },
  {
   "cell_type": "markdown",
   "id": "97ee60e2",
   "metadata": {
    "papermill": {
     "duration": 0.003656,
     "end_time": "2025-04-26T23:14:59.489875",
     "exception": false,
     "start_time": "2025-04-26T23:14:59.486219",
     "status": "completed"
    },
    "tags": []
   },
   "source": [
    "# **Coin exercise**\n",
    "\n",
    "Let's do some experiments with a coin and the Laplace rule"
   ]
  },
  {
   "cell_type": "code",
   "execution_count": 364,
   "id": "785b68aa",
   "metadata": {
    "execution": {
     "iopub.execute_input": "2025-04-26T23:14:59.498393Z",
     "iopub.status.busy": "2025-04-26T23:14:59.497910Z",
     "iopub.status.idle": "2025-04-26T23:14:59.502670Z",
     "shell.execute_reply": "2025-04-26T23:14:59.501546Z"
    },
    "papermill": {
     "duration": 0.011191,
     "end_time": "2025-04-26T23:14:59.504646",
     "exception": false,
     "start_time": "2025-04-26T23:14:59.493455",
     "status": "completed"
    },
    "tags": []
   },
   "outputs": [],
   "source": [
    "import numpy as np\n",
    "import random "
   ]
  },
  {
   "cell_type": "code",
   "execution_count": 365,
   "id": "c88fa1cb",
   "metadata": {
    "execution": {
     "iopub.execute_input": "2025-04-26T23:14:59.513075Z",
     "iopub.status.busy": "2025-04-26T23:14:59.512742Z",
     "iopub.status.idle": "2025-04-26T23:14:59.521766Z",
     "shell.execute_reply": "2025-04-26T23:14:59.520655Z"
    },
    "papermill": {
     "duration": 0.015215,
     "end_time": "2025-04-26T23:14:59.523719",
     "exception": false,
     "start_time": "2025-04-26T23:14:59.508504",
     "status": "completed"
    },
    "tags": []
   },
   "outputs": [
    {
     "name": "stdout",
     "output_type": "stream",
     "text": [
      "Result random experiment: [0 1 0 ... 1 0 1]\n"
     ]
    }
   ],
   "source": [
    "value_range = 2\n",
    "experiments_number = 2000 # The more times we run the experiment, the closest it will get to our probability estimation\n",
    "\n",
    "\n",
    "result = np.random.randint(value_range, size=experiments_number) # random number between 0 and n-1\n",
    "\n",
    "print(f\"Result random experiment: {result}\")"
   ]
  },
  {
   "cell_type": "code",
   "execution_count": 366,
   "id": "a3b750bd",
   "metadata": {
    "execution": {
     "iopub.execute_input": "2025-04-26T23:14:59.533005Z",
     "iopub.status.busy": "2025-04-26T23:14:59.532671Z",
     "iopub.status.idle": "2025-04-26T23:14:59.539724Z",
     "shell.execute_reply": "2025-04-26T23:14:59.538856Z"
    },
    "papermill": {
     "duration": 0.013864,
     "end_time": "2025-04-26T23:14:59.541209",
     "exception": false,
     "start_time": "2025-04-26T23:14:59.527345",
     "status": "completed"
    },
    "tags": []
   },
   "outputs": [
    {
     "data": {
      "text/plain": [
       "0.492"
      ]
     },
     "execution_count": 366,
     "metadata": {},
     "output_type": "execute_result"
    }
   ],
   "source": [
    "np.count_nonzero(result)/experiments_number"
   ]
  },
  {
   "cell_type": "code",
   "execution_count": 367,
   "id": "173c0eb7",
   "metadata": {
    "execution": {
     "iopub.execute_input": "2025-04-26T23:14:59.549745Z",
     "iopub.status.busy": "2025-04-26T23:14:59.549410Z",
     "iopub.status.idle": "2025-04-26T23:14:59.555928Z",
     "shell.execute_reply": "2025-04-26T23:14:59.555003Z"
    },
    "papermill": {
     "duration": 0.013035,
     "end_time": "2025-04-26T23:14:59.557904",
     "exception": false,
     "start_time": "2025-04-26T23:14:59.544869",
     "status": "completed"
    },
    "tags": []
   },
   "outputs": [
    {
     "data": {
      "text/plain": [
       "np.float64(0.492)"
      ]
     },
     "execution_count": 367,
     "metadata": {},
     "output_type": "execute_result"
    }
   ],
   "source": [
    "result.mean()"
   ]
  },
  {
   "cell_type": "code",
   "execution_count": 368,
   "id": "cf25b13a",
   "metadata": {
    "execution": {
     "iopub.execute_input": "2025-04-26T23:14:59.568291Z",
     "iopub.status.busy": "2025-04-26T23:14:59.567917Z",
     "iopub.status.idle": "2025-04-26T23:14:59.574996Z",
     "shell.execute_reply": "2025-04-26T23:14:59.574021Z"
    },
    "papermill": {
     "duration": 0.014718,
     "end_time": "2025-04-26T23:14:59.576595",
     "exception": false,
     "start_time": "2025-04-26T23:14:59.561877",
     "status": "completed"
    },
    "tags": []
   },
   "outputs": [
    {
     "data": {
      "text/plain": [
       "2000"
      ]
     },
     "execution_count": 368,
     "metadata": {},
     "output_type": "execute_result"
    }
   ],
   "source": [
    "# this obviously needs to be equal to the number of experiments\n",
    "np.count_nonzero(result==0) + np.count_nonzero(result==1) "
   ]
  },
  {
   "cell_type": "code",
   "execution_count": 369,
   "id": "5a1e41d9",
   "metadata": {
    "execution": {
     "iopub.execute_input": "2025-04-26T23:14:59.586741Z",
     "iopub.status.busy": "2025-04-26T23:14:59.585883Z",
     "iopub.status.idle": "2025-04-26T23:14:59.592078Z",
     "shell.execute_reply": "2025-04-26T23:14:59.591106Z"
    },
    "papermill": {
     "duration": 0.012624,
     "end_time": "2025-04-26T23:14:59.593633",
     "exception": false,
     "start_time": "2025-04-26T23:14:59.581009",
     "status": "completed"
    },
    "tags": []
   },
   "outputs": [
    {
     "data": {
      "text/plain": [
       "0.508"
      ]
     },
     "execution_count": 369,
     "metadata": {},
     "output_type": "execute_result"
    }
   ],
   "source": [
    "np.count_nonzero(result==0)/experiments_number"
   ]
  },
  {
   "cell_type": "code",
   "execution_count": 370,
   "id": "1cfc8f4f",
   "metadata": {
    "execution": {
     "iopub.execute_input": "2025-04-26T23:14:59.603058Z",
     "iopub.status.busy": "2025-04-26T23:14:59.602706Z",
     "iopub.status.idle": "2025-04-26T23:14:59.608785Z",
     "shell.execute_reply": "2025-04-26T23:14:59.607914Z"
    },
    "papermill": {
     "duration": 0.012645,
     "end_time": "2025-04-26T23:14:59.610419",
     "exception": false,
     "start_time": "2025-04-26T23:14:59.597774",
     "status": "completed"
    },
    "tags": []
   },
   "outputs": [
    {
     "data": {
      "text/plain": [
       "0.492"
      ]
     },
     "execution_count": 370,
     "metadata": {},
     "output_type": "execute_result"
    }
   ],
   "source": [
    "# We can see in a practical way what complimentary events are\n",
    "1-np.count_nonzero(result==0)/experiments_number"
   ]
  },
  {
   "cell_type": "code",
   "execution_count": 371,
   "id": "99faf382",
   "metadata": {
    "execution": {
     "iopub.execute_input": "2025-04-26T23:14:59.620119Z",
     "iopub.status.busy": "2025-04-26T23:14:59.619780Z",
     "iopub.status.idle": "2025-04-26T23:14:59.626192Z",
     "shell.execute_reply": "2025-04-26T23:14:59.625278Z"
    },
    "papermill": {
     "duration": 0.013513,
     "end_time": "2025-04-26T23:14:59.627896",
     "exception": false,
     "start_time": "2025-04-26T23:14:59.614383",
     "status": "completed"
    },
    "tags": []
   },
   "outputs": [],
   "source": [
    "# If the probabilities in p do not sum to 1, an error will be raised\n",
    "newsize = 10000\n",
    "\n",
    "newresult = np.random.choice([0,1], p=[0.2,0.8], size=newsize)\n",
    "\n",
    "# Obviously, the probability of the entire sample space must sum to 1; otherwise, an error will occur"
   ]
  },
  {
   "cell_type": "code",
   "execution_count": 372,
   "id": "0c862254",
   "metadata": {
    "execution": {
     "iopub.execute_input": "2025-04-26T23:14:59.637103Z",
     "iopub.status.busy": "2025-04-26T23:14:59.636760Z",
     "iopub.status.idle": "2025-04-26T23:14:59.643017Z",
     "shell.execute_reply": "2025-04-26T23:14:59.641991Z"
    },
    "papermill": {
     "duration": 0.012645,
     "end_time": "2025-04-26T23:14:59.644514",
     "exception": false,
     "start_time": "2025-04-26T23:14:59.631869",
     "status": "completed"
    },
    "tags": []
   },
   "outputs": [
    {
     "data": {
      "text/plain": [
       "0.1931"
      ]
     },
     "execution_count": 372,
     "metadata": {},
     "output_type": "execute_result"
    }
   ],
   "source": [
    "# The result must be very similar to the probability established above\n",
    "np.count_nonzero(newresult==0)/newsize"
   ]
  },
  {
   "cell_type": "markdown",
   "id": "2f9ae167",
   "metadata": {
    "papermill": {
     "duration": 0.003612,
     "end_time": "2025-04-26T23:14:59.652270",
     "exception": false,
     "start_time": "2025-04-26T23:14:59.648658",
     "status": "completed"
    },
    "tags": []
   },
   "source": [
    "# **Dice exercise**\n",
    "\n",
    "Create a random event that throws a dice with 6 sides (entire sample = 1 to 6)\n",
    "\n",
    "What is the probability of obtining the number 3?"
   ]
  },
  {
   "cell_type": "code",
   "execution_count": 373,
   "id": "09d3d117",
   "metadata": {
    "execution": {
     "iopub.execute_input": "2025-04-26T23:14:59.661109Z",
     "iopub.status.busy": "2025-04-26T23:14:59.660785Z",
     "iopub.status.idle": "2025-04-26T23:14:59.667272Z",
     "shell.execute_reply": "2025-04-26T23:14:59.666266Z"
    },
    "papermill": {
     "duration": 0.012628,
     "end_time": "2025-04-26T23:14:59.668734",
     "exception": false,
     "start_time": "2025-04-26T23:14:59.656106",
     "status": "completed"
    },
    "tags": []
   },
   "outputs": [
    {
     "name": "stdout",
     "output_type": "stream",
     "text": [
      "Result random experiment: [4 6 1 ... 1 6 3]\n",
      "Probability of obtaining 3: 0.17112\n"
     ]
    }
   ],
   "source": [
    "experiments_number = 50000\n",
    "\n",
    "# Random int between 1 and 6\n",
    "result = np.random.randint(1, 7, size=experiments_number)\n",
    "print(f\"Result random experiment: {result}\")\n",
    "\n",
    "# Probability of obtaining 3 (according to Laplace's rule)\n",
    "prob = np.count_nonzero(result==3)/experiments_number\n",
    "print(f\"Probability of obtaining 3: {prob}\")\n",
    "# P=1/6 = 1.666"
   ]
  },
  {
   "cell_type": "code",
   "execution_count": 374,
   "id": "159fa04e",
   "metadata": {},
   "outputs": [
    {
     "data": {
      "image/png": "[encoded data removed]",
      "text/plain": [
       "<Figure size 640x480 with 1 Axes>"
      ]
     },
     "metadata": {},
     "output_type": "display_data"
    }
   ],
   "source": [
    "import matplotlib.pyplot as plt\n",
    "# Plot histogram. As we can see the theoretical probability for each number is the same, and the \"practice\" \n",
    "# should be close to it\n",
    "plt.hist(result, bins=np.arange(1, value_range + 2) - 0.5, edgecolor='black', rwidth=0.8)\n",
    "plt.title('Histogram of Dice Rolls')\n",
    "plt.xlabel('Dice Face')\n",
    "plt.ylabel('Frequency')\n",
    "plt.xticks(range(1, value_range + 1))\n",
    "plt.grid(axis='y', linestyle='--', alpha=0.7)\n",
    "plt.show()"
   ]
  },
  {
   "cell_type": "markdown",
   "id": "e3bda7e7",
   "metadata": {},
   "source": [
    "**Repeat the same dice throw twice**"
   ]
  },
  {
   "cell_type": "code",
   "execution_count": 375,
   "id": "3ea203db",
   "metadata": {},
   "outputs": [
    {
     "name": "stdout",
     "output_type": "stream",
     "text": [
      "[6 2]\n"
     ]
    }
   ],
   "source": [
    "experiments_number = 2\n",
    "\n",
    "# Random int between 1 and 6\n",
    "result = np.random.randint(1, 7, size=experiments_number)\n",
    "\n",
    "print(result)\n",
    "# We wobserve that we might not have obtained any 3 despite we said the probability was 1/6. \n",
    "# Of course that is just because we need to increase the number of experiments. \n",
    "# The higher the number of experiments, the closer we get to the expected value (Law of Large Numbers)"
   ]
  },
  {
   "cell_type": "code",
   "execution_count": 376,
   "id": "35fd7ef7",
   "metadata": {},
   "outputs": [
    {
     "name": "stdout",
     "output_type": "stream",
     "text": [
      "0.181\n",
      "0.162\n"
     ]
    }
   ],
   "source": [
    "# If we repeat the experiment above 1000 and 10000 times respectively, we will get a much closer approximation to the expected value\n",
    "experiments_number = 1000\n",
    "result = np.random.randint(1, 7, size=experiments_number)\n",
    "prob = np.count_nonzero(result==3)/experiments_number\n",
    "print(prob)\n",
    "\n",
    "experiments_number = 10000\n",
    "result = np.random.randint(1, 7, size=experiments_number)\n",
    "prob = np.count_nonzero(result==3)/experiments_number\n",
    "print(prob)"
   ]
  },
  {
   "cell_type": "markdown",
   "id": "4a1149f3",
   "metadata": {
    "papermill": {
     "duration": 0.004816,
     "end_time": "2025-04-26T23:14:59.939130",
     "exception": false,
     "start_time": "2025-04-26T23:14:59.934314",
     "status": "completed"
    },
    "tags": []
   },
   "source": [
    "**What is the probability of obtaining an even number?**"
   ]
  },
  {
   "cell_type": "code",
   "execution_count": 377,
   "id": "b3ec0a00",
   "metadata": {
    "execution": {
     "iopub.execute_input": "2025-04-26T23:14:59.949293Z",
     "iopub.status.busy": "2025-04-26T23:14:59.948922Z",
     "iopub.status.idle": "2025-04-26T23:14:59.956068Z",
     "shell.execute_reply": "2025-04-26T23:14:59.955174Z"
    },
    "papermill": {
     "duration": 0.014048,
     "end_time": "2025-04-26T23:14:59.957563",
     "exception": false,
     "start_time": "2025-04-26T23:14:59.943515",
     "status": "completed"
    },
    "tags": []
   },
   "outputs": [
    {
     "name": "stdout",
     "output_type": "stream",
     "text": [
      "Result random experiment: [6 5 1 ... 2 1 3]\n",
      "Probability of obtaining even: 0.49908\n"
     ]
    }
   ],
   "source": [
    "# The even numbers on a dice are 2, 4, 6, the odd are obviously 1, 3, 5\n",
    "# By Laplace's rule (and logic), P(even number) = 0.5. Let's see if that is true with some experiments\n",
    "experiments_number = 50000\n",
    "\n",
    "# Random int between 1 and 6\n",
    "result = np.random.randint(1, 7, size=experiments_number)\n",
    "print(f\"Result random experiment: {result}\")\n",
    "\n",
    "# Probability of obtaining 2,4,6 (according to Laplace's rule)\n",
    "prob_even = (np.count_nonzero(result==2) + np.count_nonzero(result==4) + np.count_nonzero(result==6))/experiments_number\n",
    "print(f\"Probability of obtaining even: {prob_even}\")\n",
    "# P=3/6 = 1/2 = 0.5"
   ]
  },
  {
   "cell_type": "markdown",
   "id": "525dfaf2",
   "metadata": {},
   "source": [
    "**What is the probability of obtaining an odd number?**"
   ]
  },
  {
   "cell_type": "code",
   "execution_count": 378,
   "id": "97f1e612",
   "metadata": {},
   "outputs": [
    {
     "name": "stdout",
     "output_type": "stream",
     "text": [
      "Result random experiment: [3 3 1 ... 1 3 2]\n",
      "Probability of obtaining an odd number: 0.50208\n",
      "Probability of obtaining an odd number (complementary method): 0.50092\n"
     ]
    }
   ],
   "source": [
    "# Same as above but vice versa...\n",
    "experiments_number = 50000\n",
    "\n",
    "# Random int between 1 and 6\n",
    "result = np.random.randint(1, 7, size=experiments_number)\n",
    "print(f\"Result random experiment: {result}\")\n",
    "\n",
    "# Probability of obtaining 1,3,5 (according to Laplace's rule)\n",
    "prob_odd = (np.count_nonzero(result==1) + np.count_nonzero(result==3) + np.count_nonzero(result==4))/experiments_number\n",
    "print(f\"Probability of obtaining an odd number: {prob_odd}\")\n",
    "# P=3/6 = 1/2 = 0.5\n",
    "\n",
    "# OR more elegantly... the probability of obtaining an odd number is the complementary event of obtaining an even number, so:\n",
    "prob_odd_complement = 1 - prob_even\n",
    "print(f\"Probability of obtaining an odd number (complementary method): {prob_odd_complement}\")\n",
    "\n",
    "# We can observe the probability is pretty much the same"
   ]
  },
  {
   "cell_type": "markdown",
   "id": "a1d9a116",
   "metadata": {
    "papermill": {
     "duration": 0.004338,
     "end_time": "2025-04-26T23:14:59.966563",
     "exception": false,
     "start_time": "2025-04-26T23:14:59.962225",
     "status": "completed"
    },
    "tags": []
   },
   "source": [
    "**What is the probability of obtaining a number smaller than 3?**"
   ]
  },
  {
   "cell_type": "code",
   "execution_count": 379,
   "id": "3a5c1e1c",
   "metadata": {
    "execution": {
     "iopub.execute_input": "2025-04-26T23:14:59.976544Z",
     "iopub.status.busy": "2025-04-26T23:14:59.976253Z",
     "iopub.status.idle": "2025-04-26T23:14:59.982530Z",
     "shell.execute_reply": "2025-04-26T23:14:59.981638Z"
    },
    "papermill": {
     "duration": 0.013062,
     "end_time": "2025-04-26T23:14:59.983891",
     "exception": false,
     "start_time": "2025-04-26T23:14:59.970829",
     "status": "completed"
    },
    "tags": []
   },
   "outputs": [
    {
     "name": "stdout",
     "output_type": "stream",
     "text": [
      "Probability of obtaining 2 or less is the probability of obtaining 1 + the probability of obtaining 2: 0.3384\n"
     ]
    }
   ],
   "source": [
    "# Well the dice has 6 numbers... and we are being asked P(X<3), that means the sample space = {1, 2}\n",
    "# thus according to Laplace's rule P(X<3)=2/6=0.333. Let's see if the experiments tells us the same story:\n",
    "experiments_number = 50000\n",
    "\n",
    "# Probability of obtaining 1,2,3,4,5 (according to Laplace's rule)\n",
    "prob = (np.count_nonzero(result==1) \n",
    "        + np.count_nonzero(result==2))/experiments_number\n",
    "print(f\"Probability of obtaining 2 or less is the probability of obtaining 1 + the probability of obtaining 2: {prob}\") # and that meets the expectations!"
   ]
  },
  {
   "cell_type": "markdown",
   "id": "dad8c316",
   "metadata": {},
   "source": [
    "# **Conditional probability**\n",
    "\n",
    "#### Exercise 1\n",
    "**What is the probability of achieving the desired grade knowing that the student has missed more than n days?**\n",
    "\n",
    "- Desired grade: 60\n",
    "- Number of absences: 5"
   ]
  },
  {
   "cell_type": "code",
   "execution_count": 380,
   "id": "ac476a9a",
   "metadata": {},
   "outputs": [],
   "source": [
    "# Load the data\n",
    "import requests\n",
    "import io\n",
    "\n",
    "url = \"https://raw.githubusercontent.com/NechuBM/dataset/main/student-dataset.csv\"\n",
    "\n",
    "req = requests.request(method=\"GET\", url=url)\n",
    "\n",
    "file = io.open(\"student-dataset.csv\", \"w\")\n",
    "file.write(req.text)\n",
    "file.close()\n",
    "\n",
    "students_DF = pd.read_csv(\"student-dataset.csv\", sep=\";\")"
   ]
  },
  {
   "cell_type": "code",
   "execution_count": 381,
   "id": "5c0477d2",
   "metadata": {},
   "outputs": [
    {
     "data": {
      "application/vnd.microsoft.datawrangler.viewer.v0+json": {
       "columns": [
        {
         "name": "index",
         "rawType": "int64",
         "type": "integer"
        },
        {
         "name": "absences",
         "rawType": "int64",
         "type": "integer"
        },
        {
         "name": "grades",
         "rawType": "int64",
         "type": "integer"
        },
        {
         "name": "goout",
         "rawType": "int64",
         "type": "integer"
        }
       ],
       "conversionMethod": "pd.DataFrame",
       "ref": "0cfe440a-e030-46fc-86c0-5d13744b48a3",
       "rows": [
        [
         "524",
         "2",
         "8",
         "1"
        ],
        [
         "208",
         "0",
         "12",
         "3"
        ],
        [
         "106",
         "4",
         "10",
         "2"
        ],
        [
         "499",
         "0",
         "16",
         "5"
        ],
        [
         "203",
         "6",
         "10",
         "3"
        ]
       ],
       "shape": {
        "columns": 3,
        "rows": 5
       }
      },
      "text/html": [
       "<div>\n",
       "<style scoped>\n",
       "    .dataframe tbody tr th:only-of-type {\n",
       "        vertical-align: middle;\n",
       "    }\n",
       "\n",
       "    .dataframe tbody tr th {\n",
       "        vertical-align: top;\n",
       "    }\n",
       "\n",
       "    .dataframe thead th {\n",
       "        text-align: right;\n",
       "    }\n",
       "</style>\n",
       "<table border=\"1\" class=\"dataframe\">\n",
       "  <thead>\n",
       "    <tr style=\"text-align: right;\">\n",
       "      <th></th>\n",
       "      <th>absences</th>\n",
       "      <th>grades</th>\n",
       "      <th>goout</th>\n",
       "    </tr>\n",
       "  </thead>\n",
       "  <tbody>\n",
       "    <tr>\n",
       "      <th>524</th>\n",
       "      <td>2</td>\n",
       "      <td>8</td>\n",
       "      <td>1</td>\n",
       "    </tr>\n",
       "    <tr>\n",
       "      <th>208</th>\n",
       "      <td>0</td>\n",
       "      <td>12</td>\n",
       "      <td>3</td>\n",
       "    </tr>\n",
       "    <tr>\n",
       "      <th>106</th>\n",
       "      <td>4</td>\n",
       "      <td>10</td>\n",
       "      <td>2</td>\n",
       "    </tr>\n",
       "    <tr>\n",
       "      <th>499</th>\n",
       "      <td>0</td>\n",
       "      <td>16</td>\n",
       "      <td>5</td>\n",
       "    </tr>\n",
       "    <tr>\n",
       "      <th>203</th>\n",
       "      <td>6</td>\n",
       "      <td>10</td>\n",
       "      <td>3</td>\n",
       "    </tr>\n",
       "  </tbody>\n",
       "</table>\n",
       "</div>"
      ],
      "text/plain": [
       "     absences  grades  goout\n",
       "524         2       8      1\n",
       "208         0      12      3\n",
       "106         4      10      2\n",
       "499         0      16      5\n",
       "203         6      10      3"
      ]
     },
     "execution_count": 381,
     "metadata": {},
     "output_type": "execute_result"
    }
   ],
   "source": [
    "# I don't need that many columns, G3 and absences should be fine (plus goout for later)\n",
    "students_DF.columns.sort_values()\n",
    "\n",
    "simple_DF = students_DF[[\"absences\", \"G3\", \"goout\"]].copy() # let's work with a copy instead of a reference, in case I need the original DF later\n",
    "simple_DF.columns = [\"absences\", \"grades\", \"goout\"]\n",
    "\n",
    "simple_DF.sample(5) # Checking we are fine"
   ]
  },
  {
   "cell_type": "code",
   "execution_count": 382,
   "id": "bc1ff86b",
   "metadata": {},
   "outputs": [
    {
     "data": {
      "application/vnd.microsoft.datawrangler.viewer.v0+json": {
       "columns": [
        {
         "name": "index",
         "rawType": "object",
         "type": "string"
        },
        {
         "name": "absences",
         "rawType": "float64",
         "type": "float"
        },
        {
         "name": "grades",
         "rawType": "float64",
         "type": "float"
        },
        {
         "name": "goout",
         "rawType": "float64",
         "type": "float"
        }
       ],
       "conversionMethod": "pd.DataFrame",
       "ref": "30a61669-941a-4b3e-b19c-a21eb11faf1b",
       "rows": [
        [
         "count",
         "649.0",
         "649.0",
         "649.0"
        ],
        [
         "mean",
         "3.6594761171032357",
         "11.906009244992296",
         "3.184899845916795"
        ],
        [
         "std",
         "4.640758808397153",
         "3.230656242804805",
         "1.175766113842312"
        ],
        [
         "min",
         "0.0",
         "0.0",
         "1.0"
        ],
        [
         "25%",
         "0.0",
         "10.0",
         "2.0"
        ],
        [
         "50%",
         "2.0",
         "12.0",
         "3.0"
        ],
        [
         "75%",
         "6.0",
         "14.0",
         "4.0"
        ],
        [
         "max",
         "32.0",
         "19.0",
         "5.0"
        ]
       ],
       "shape": {
        "columns": 3,
        "rows": 8
       }
      },
      "text/html": [
       "<div>\n",
       "<style scoped>\n",
       "    .dataframe tbody tr th:only-of-type {\n",
       "        vertical-align: middle;\n",
       "    }\n",
       "\n",
       "    .dataframe tbody tr th {\n",
       "        vertical-align: top;\n",
       "    }\n",
       "\n",
       "    .dataframe thead th {\n",
       "        text-align: right;\n",
       "    }\n",
       "</style>\n",
       "<table border=\"1\" class=\"dataframe\">\n",
       "  <thead>\n",
       "    <tr style=\"text-align: right;\">\n",
       "      <th></th>\n",
       "      <th>absences</th>\n",
       "      <th>grades</th>\n",
       "      <th>goout</th>\n",
       "    </tr>\n",
       "  </thead>\n",
       "  <tbody>\n",
       "    <tr>\n",
       "      <th>count</th>\n",
       "      <td>649.000000</td>\n",
       "      <td>649.000000</td>\n",
       "      <td>649.000000</td>\n",
       "    </tr>\n",
       "    <tr>\n",
       "      <th>mean</th>\n",
       "      <td>3.659476</td>\n",
       "      <td>11.906009</td>\n",
       "      <td>3.184900</td>\n",
       "    </tr>\n",
       "    <tr>\n",
       "      <th>std</th>\n",
       "      <td>4.640759</td>\n",
       "      <td>3.230656</td>\n",
       "      <td>1.175766</td>\n",
       "    </tr>\n",
       "    <tr>\n",
       "      <th>min</th>\n",
       "      <td>0.000000</td>\n",
       "      <td>0.000000</td>\n",
       "      <td>1.000000</td>\n",
       "    </tr>\n",
       "    <tr>\n",
       "      <th>25%</th>\n",
       "      <td>0.000000</td>\n",
       "      <td>10.000000</td>\n",
       "      <td>2.000000</td>\n",
       "    </tr>\n",
       "    <tr>\n",
       "      <th>50%</th>\n",
       "      <td>2.000000</td>\n",
       "      <td>12.000000</td>\n",
       "      <td>3.000000</td>\n",
       "    </tr>\n",
       "    <tr>\n",
       "      <th>75%</th>\n",
       "      <td>6.000000</td>\n",
       "      <td>14.000000</td>\n",
       "      <td>4.000000</td>\n",
       "    </tr>\n",
       "    <tr>\n",
       "      <th>max</th>\n",
       "      <td>32.000000</td>\n",
       "      <td>19.000000</td>\n",
       "      <td>5.000000</td>\n",
       "    </tr>\n",
       "  </tbody>\n",
       "</table>\n",
       "</div>"
      ],
      "text/plain": [
       "         absences      grades       goout\n",
       "count  649.000000  649.000000  649.000000\n",
       "mean     3.659476   11.906009    3.184900\n",
       "std      4.640759    3.230656    1.175766\n",
       "min      0.000000    0.000000    1.000000\n",
       "25%      0.000000   10.000000    2.000000\n",
       "50%      2.000000   12.000000    3.000000\n",
       "75%      6.000000   14.000000    4.000000\n",
       "max     32.000000   19.000000    5.000000"
      ]
     },
     "execution_count": 382,
     "metadata": {},
     "output_type": "execute_result"
    }
   ],
   "source": [
    "simple_DF.describe()"
   ]
  },
  {
   "cell_type": "code",
   "execution_count": 383,
   "id": "b284539b",
   "metadata": {},
   "outputs": [
    {
     "data": {
      "text/plain": [
       "array([[<Axes: title={'center': 'absences'}>,\n",
       "        <Axes: title={'center': 'grades'}>],\n",
       "       [<Axes: title={'center': 'goout'}>, <Axes: >]], dtype=object)"
      ]
     },
     "execution_count": 383,
     "metadata": {},
     "output_type": "execute_result"
    },
    {
     "data": {
      "image/png": "[encoded data removed]",
      "text/plain": [
       "<Figure size 640x480 with 4 Axes>"
      ]
     },
     "metadata": {},
     "output_type": "display_data"
    }
   ],
   "source": [
    "# Check the data distribution\n",
    "simple_DF.hist() "
   ]
  },
  {
   "cell_type": "code",
   "execution_count": 384,
   "id": "62bb2860",
   "metadata": {},
   "outputs": [
    {
     "data": {
      "text/plain": [
       "<Axes: >"
      ]
     },
     "execution_count": 384,
     "metadata": {},
     "output_type": "execute_result"
    },
    {
     "data": {
      "image/png": "[encoded data removed]",
      "text/plain": [
       "<Figure size 640x480 with 1 Axes>"
      ]
     },
     "metadata": {},
     "output_type": "display_data"
    }
   ],
   "source": [
    "# Check the boxplot to better understand outliers, median, max, mins, quartiles...\n",
    "simple_DF.boxplot()"
   ]
  },
  {
   "cell_type": "markdown",
   "id": "8095d142",
   "metadata": {},
   "source": [
    "*Problem interpretation:*\n",
    "\n",
    "A = absences<br>\n",
    "B = pass\n",
    "\n",
    "P(B|A) = P(A ∩ B) / P(A)\n",
    "\n",
    "P(pass|absences) = P(absences  ∩  pass) / P(absences)"
   ]
  },
  {
   "cell_type": "code",
   "execution_count": 385,
   "id": "ce4c1680",
   "metadata": {},
   "outputs": [],
   "source": [
    "# Add a column (feature) that will have 1 for columns with +5 absence, else 0\n",
    "simple_DF[\"abs_count\"] = [1 if x >5 else 0 for x in simple_DF[\"absences\"]]"
   ]
  },
  {
   "cell_type": "code",
   "execution_count": 386,
   "id": "32ba12ad",
   "metadata": {},
   "outputs": [
    {
     "data": {
      "application/vnd.microsoft.datawrangler.viewer.v0+json": {
       "columns": [
        {
         "name": "index",
         "rawType": "int64",
         "type": "integer"
        },
        {
         "name": "absences",
         "rawType": "int64",
         "type": "integer"
        },
        {
         "name": "grades",
         "rawType": "int64",
         "type": "integer"
        },
        {
         "name": "goout",
         "rawType": "int64",
         "type": "integer"
        },
        {
         "name": "abs_count",
         "rawType": "int64",
         "type": "integer"
        }
       ],
       "conversionMethod": "pd.DataFrame",
       "ref": "9bb553df-423a-4e61-8b3f-c1f0cb255449",
       "rows": [
        [
         "0",
         "4",
         "11",
         "4",
         "0"
        ],
        [
         "1",
         "2",
         "11",
         "3",
         "0"
        ],
        [
         "2",
         "6",
         "12",
         "2",
         "1"
        ],
        [
         "3",
         "0",
         "14",
         "2",
         "0"
        ],
        [
         "4",
         "0",
         "13",
         "2",
         "0"
        ]
       ],
       "shape": {
        "columns": 4,
        "rows": 5
       }
      },
      "text/html": [
       "<div>\n",
       "<style scoped>\n",
       "    .dataframe tbody tr th:only-of-type {\n",
       "        vertical-align: middle;\n",
       "    }\n",
       "\n",
       "    .dataframe tbody tr th {\n",
       "        vertical-align: top;\n",
       "    }\n",
       "\n",
       "    .dataframe thead th {\n",
       "        text-align: right;\n",
       "    }\n",
       "</style>\n",
       "<table border=\"1\" class=\"dataframe\">\n",
       "  <thead>\n",
       "    <tr style=\"text-align: right;\">\n",
       "      <th></th>\n",
       "      <th>absences</th>\n",
       "      <th>grades</th>\n",
       "      <th>goout</th>\n",
       "      <th>abs_count</th>\n",
       "    </tr>\n",
       "  </thead>\n",
       "  <tbody>\n",
       "    <tr>\n",
       "      <th>0</th>\n",
       "      <td>4</td>\n",
       "      <td>11</td>\n",
       "      <td>4</td>\n",
       "      <td>0</td>\n",
       "    </tr>\n",
       "    <tr>\n",
       "      <th>1</th>\n",
       "      <td>2</td>\n",
       "      <td>11</td>\n",
       "      <td>3</td>\n",
       "      <td>0</td>\n",
       "    </tr>\n",
       "    <tr>\n",
       "      <th>2</th>\n",
       "      <td>6</td>\n",
       "      <td>12</td>\n",
       "      <td>2</td>\n",
       "      <td>1</td>\n",
       "    </tr>\n",
       "    <tr>\n",
       "      <th>3</th>\n",
       "      <td>0</td>\n",
       "      <td>14</td>\n",
       "      <td>2</td>\n",
       "      <td>0</td>\n",
       "    </tr>\n",
       "    <tr>\n",
       "      <th>4</th>\n",
       "      <td>0</td>\n",
       "      <td>13</td>\n",
       "      <td>2</td>\n",
       "      <td>0</td>\n",
       "    </tr>\n",
       "  </tbody>\n",
       "</table>\n",
       "</div>"
      ],
      "text/plain": [
       "   absences  grades  goout  abs_count\n",
       "0         4      11      4          0\n",
       "1         2      11      3          0\n",
       "2         6      12      2          1\n",
       "3         0      14      2          0\n",
       "4         0      13      2          0"
      ]
     },
     "execution_count": 386,
     "metadata": {},
     "output_type": "execute_result"
    }
   ],
   "source": [
    "simple_DF.head() # Looks good"
   ]
  },
  {
   "cell_type": "code",
   "execution_count": 387,
   "id": "778d7a9b",
   "metadata": {},
   "outputs": [
    {
     "name": "stdout",
     "output_type": "stream",
     "text": [
      "Min value for the abs_count column  0\n",
      "Max value for the abs_count column  1\n"
     ]
    }
   ],
   "source": [
    "# Let's double-check\n",
    "print(f\"Min value for the abs_count column \", simple_DF[\"abs_count\"].min())\n",
    "print(f\"Max value for the abs_count column \", simple_DF[\"abs_count\"].max())"
   ]
  },
  {
   "cell_type": "code",
   "execution_count": 388,
   "id": "7840bf26",
   "metadata": {},
   "outputs": [
    {
     "name": "stdout",
     "output_type": "stream",
     "text": [
      "Probability of being absence > n days (n=5):  0.26348228043143296\n"
     ]
    }
   ],
   "source": [
    "# This is the probability A (more than n days where n=5)\n",
    "prob_absences = simple_DF[\"abs_count\"].mean()\n",
    "\n",
    "print(f\"Probability of being absence > n days (n=5): \" , prob_absences)"
   ]
  },
  {
   "cell_type": "code",
   "execution_count": 389,
   "id": "5430db04",
   "metadata": {},
   "outputs": [
    {
     "data": {
      "application/vnd.microsoft.datawrangler.viewer.v0+json": {
       "columns": [
        {
         "name": "index",
         "rawType": "int64",
         "type": "integer"
        },
        {
         "name": "absences",
         "rawType": "int64",
         "type": "integer"
        },
        {
         "name": "grades",
         "rawType": "int64",
         "type": "integer"
        },
        {
         "name": "goout",
         "rawType": "int64",
         "type": "integer"
        },
        {
         "name": "abs_count",
         "rawType": "int64",
         "type": "integer"
        }
       ],
       "conversionMethod": "pd.DataFrame",
       "ref": "1eb83a7b-df68-4080-8fb4-6904ae19223e",
       "rows": [
        [
         "0",
         "4",
         "55",
         "4",
         "0"
        ],
        [
         "1",
         "2",
         "55",
         "3",
         "0"
        ],
        [
         "2",
         "6",
         "60",
         "2",
         "1"
        ],
        [
         "3",
         "0",
         "70",
         "2",
         "0"
        ],
        [
         "4",
         "0",
         "65",
         "2",
         "0"
        ]
       ],
       "shape": {
        "columns": 4,
        "rows": 5
       }
      },
      "text/html": [
       "<div>\n",
       "<style scoped>\n",
       "    .dataframe tbody tr th:only-of-type {\n",
       "        vertical-align: middle;\n",
       "    }\n",
       "\n",
       "    .dataframe tbody tr th {\n",
       "        vertical-align: top;\n",
       "    }\n",
       "\n",
       "    .dataframe thead th {\n",
       "        text-align: right;\n",
       "    }\n",
       "</style>\n",
       "<table border=\"1\" class=\"dataframe\">\n",
       "  <thead>\n",
       "    <tr style=\"text-align: right;\">\n",
       "      <th></th>\n",
       "      <th>absences</th>\n",
       "      <th>grades</th>\n",
       "      <th>goout</th>\n",
       "      <th>abs_count</th>\n",
       "    </tr>\n",
       "  </thead>\n",
       "  <tbody>\n",
       "    <tr>\n",
       "      <th>0</th>\n",
       "      <td>4</td>\n",
       "      <td>55</td>\n",
       "      <td>4</td>\n",
       "      <td>0</td>\n",
       "    </tr>\n",
       "    <tr>\n",
       "      <th>1</th>\n",
       "      <td>2</td>\n",
       "      <td>55</td>\n",
       "      <td>3</td>\n",
       "      <td>0</td>\n",
       "    </tr>\n",
       "    <tr>\n",
       "      <th>2</th>\n",
       "      <td>6</td>\n",
       "      <td>60</td>\n",
       "      <td>2</td>\n",
       "      <td>1</td>\n",
       "    </tr>\n",
       "    <tr>\n",
       "      <th>3</th>\n",
       "      <td>0</td>\n",
       "      <td>70</td>\n",
       "      <td>2</td>\n",
       "      <td>0</td>\n",
       "    </tr>\n",
       "    <tr>\n",
       "      <th>4</th>\n",
       "      <td>0</td>\n",
       "      <td>65</td>\n",
       "      <td>2</td>\n",
       "      <td>0</td>\n",
       "    </tr>\n",
       "  </tbody>\n",
       "</table>\n",
       "</div>"
      ],
      "text/plain": [
       "   absences  grades  goout  abs_count\n",
       "0         4      55      4          0\n",
       "1         2      55      3          0\n",
       "2         6      60      2          1\n",
       "3         0      70      2          0\n",
       "4         0      65      2          0"
      ]
     },
     "execution_count": 389,
     "metadata": {},
     "output_type": "execute_result"
    }
   ],
   "source": [
    "# Re-escale the grades column\n",
    "simple_DF[\"grades\"] = simple_DF[\"grades\"] * 5\n",
    "\n",
    "simple_DF.head() # Looks good"
   ]
  },
  {
   "cell_type": "code",
   "execution_count": null,
   "id": "7cd267f6",
   "metadata": {},
   "outputs": [
    {
     "name": "stderr",
     "output_type": "stream",
     "text": [
      "C:\\Users\\jbosc\\AppData\\Local\\Temp\\ipykernel_17852\\2750490464.py:3: FutureWarning: the convert_dtype parameter is deprecated and will be removed in a future version.  Do ``ser.astype(object).apply()`` instead if you want ``convert_dtype=False``.\n",
      "  simple_DF['grades_count'] = simple_DF['grades'].apply(lambda x: x>60, 1, 0)\n"
     ]
    }
   ],
   "source": [
    "# Add a column (feature) that will have 1 for columns with +60 score, else 0\n",
    "simple_DF['grades_count'] = simple_DF['grades'].apply(lambda x: x>60, 1, 0)"
   ]
  },
  {
   "cell_type": "code",
   "execution_count": 391,
   "id": "3d4fd997",
   "metadata": {},
   "outputs": [
    {
     "data": {
      "application/vnd.microsoft.datawrangler.viewer.v0+json": {
       "columns": [
        {
         "name": "index",
         "rawType": "int64",
         "type": "integer"
        },
        {
         "name": "absences",
         "rawType": "int64",
         "type": "integer"
        },
        {
         "name": "grades",
         "rawType": "int64",
         "type": "integer"
        },
        {
         "name": "goout",
         "rawType": "int64",
         "type": "integer"
        },
        {
         "name": "abs_count",
         "rawType": "int64",
         "type": "integer"
        },
        {
         "name": "grades_count",
         "rawType": "bool",
         "type": "boolean"
        }
       ],
       "conversionMethod": "pd.DataFrame",
       "ref": "0f1d496d-47f0-4019-938a-552810c36c8f",
       "rows": [
        [
         "0",
         "4",
         "55",
         "4",
         "0",
         "False"
        ],
        [
         "1",
         "2",
         "55",
         "3",
         "0",
         "False"
        ],
        [
         "2",
         "6",
         "60",
         "2",
         "1",
         "False"
        ],
        [
         "3",
         "0",
         "70",
         "2",
         "0",
         "True"
        ],
        [
         "4",
         "0",
         "65",
         "2",
         "0",
         "True"
        ]
       ],
       "shape": {
        "columns": 5,
        "rows": 5
       }
      },
      "text/html": [
       "<div>\n",
       "<style scoped>\n",
       "    .dataframe tbody tr th:only-of-type {\n",
       "        vertical-align: middle;\n",
       "    }\n",
       "\n",
       "    .dataframe tbody tr th {\n",
       "        vertical-align: top;\n",
       "    }\n",
       "\n",
       "    .dataframe thead th {\n",
       "        text-align: right;\n",
       "    }\n",
       "</style>\n",
       "<table border=\"1\" class=\"dataframe\">\n",
       "  <thead>\n",
       "    <tr style=\"text-align: right;\">\n",
       "      <th></th>\n",
       "      <th>absences</th>\n",
       "      <th>grades</th>\n",
       "      <th>goout</th>\n",
       "      <th>abs_count</th>\n",
       "      <th>grades_count</th>\n",
       "    </tr>\n",
       "  </thead>\n",
       "  <tbody>\n",
       "    <tr>\n",
       "      <th>0</th>\n",
       "      <td>4</td>\n",
       "      <td>55</td>\n",
       "      <td>4</td>\n",
       "      <td>0</td>\n",
       "      <td>False</td>\n",
       "    </tr>\n",
       "    <tr>\n",
       "      <th>1</th>\n",
       "      <td>2</td>\n",
       "      <td>55</td>\n",
       "      <td>3</td>\n",
       "      <td>0</td>\n",
       "      <td>False</td>\n",
       "    </tr>\n",
       "    <tr>\n",
       "      <th>2</th>\n",
       "      <td>6</td>\n",
       "      <td>60</td>\n",
       "      <td>2</td>\n",
       "      <td>1</td>\n",
       "      <td>False</td>\n",
       "    </tr>\n",
       "    <tr>\n",
       "      <th>3</th>\n",
       "      <td>0</td>\n",
       "      <td>70</td>\n",
       "      <td>2</td>\n",
       "      <td>0</td>\n",
       "      <td>True</td>\n",
       "    </tr>\n",
       "    <tr>\n",
       "      <th>4</th>\n",
       "      <td>0</td>\n",
       "      <td>65</td>\n",
       "      <td>2</td>\n",
       "      <td>0</td>\n",
       "      <td>True</td>\n",
       "    </tr>\n",
       "  </tbody>\n",
       "</table>\n",
       "</div>"
      ],
      "text/plain": [
       "   absences  grades  goout  abs_count  grades_count\n",
       "0         4      55      4          0         False\n",
       "1         2      55      3          0         False\n",
       "2         6      60      2          1         False\n",
       "3         0      70      2          0          True\n",
       "4         0      65      2          0          True"
      ]
     },
     "execution_count": 391,
     "metadata": {},
     "output_type": "execute_result"
    }
   ],
   "source": [
    "# Check the result\n",
    "simple_DF.head()"
   ]
  },
  {
   "cell_type": "code",
   "execution_count": 397,
   "id": "67ac77a9",
   "metadata": {},
   "outputs": [
    {
     "name": "stdout",
     "output_type": "stream",
     "text": [
      "Min value for the abs_count column  False\n",
      "Max value for the abs_count column  True\n"
     ]
    }
   ],
   "source": [
    "# Let's double-check\n",
    "print(f\"Min value for the abs_count column \", simple_DF[\"grades_count\"].min())\n",
    "print(f\"Max value for the abs_count column \", simple_DF[\"grades_count\"].max())"
   ]
  },
  {
   "cell_type": "code",
   "execution_count": 398,
   "id": "bfd576e5",
   "metadata": {},
   "outputs": [
    {
     "name": "stdout",
     "output_type": "stream",
     "text": [
      "Probability of scoring > 60:  0.4252696456086287\n"
     ]
    }
   ],
   "source": [
    "# This is the probability B, obtaining a score > 60\n",
    "\n",
    "prob_score = simple_DF[\"grades_count\"].mean()\n",
    "\n",
    "print(f\"Probability of scoring > 60: \" , prob_score)"
   ]
  },
  {
   "cell_type": "code",
   "execution_count": 394,
   "id": "1baa4715",
   "metadata": {},
   "outputs": [
    {
     "data": {
      "text/plain": [
       "(55, 5)"
      ]
     },
     "execution_count": 394,
     "metadata": {},
     "output_type": "execute_result"
    }
   ],
   "source": [
    "# To solve the problem we need all the rows with True in both counter columns\n",
    "filtered = simple_DF[(simple_DF[\"abs_count\"] == True) & (simple_DF[\"grades_count\"] == True)]\n",
    "\n",
    "filtered.shape"
   ]
  },
  {
   "cell_type": "code",
   "execution_count": 395,
   "id": "f122d2f4",
   "metadata": {},
   "outputs": [
    {
     "data": {
      "text/plain": [
       "0.0847457627118644"
      ]
     },
     "execution_count": 395,
     "metadata": {},
     "output_type": "execute_result"
    }
   ],
   "source": [
    "prob_intersection = len(filtered) / len(simple_DF)\n",
    "\n",
    "prob_intersection"
   ]
  },
  {
   "cell_type": "code",
   "execution_count": 396,
   "id": "4196ab7d",
   "metadata": {},
   "outputs": [
    {
     "name": "stdout",
     "output_type": "stream",
     "text": [
      "0.3216374269005848\n"
     ]
    }
   ],
   "source": [
    "# Now we just need to replace the obtained variables in the formula:\n",
    "# P(pass|absences) = P(absences  ∩  pass) / P(absences)\n",
    "P_conditional_pass_absences = prob_intersection / prob_absences\n",
    "\n",
    "print(P_conditional_pass_absences)"
   ]
  },
  {
   "cell_type": "markdown",
   "id": "6ba6ff65",
   "metadata": {},
   "source": [
    "#### Exercise 2\n",
    "\n",
    "**The column 'goout' indicates, with a value from 1 to 5, the frequency of going out with friends, where 1 is 'very low' and 5 is 'very high'.**\n",
    "\n",
    "- What is the probability of achieving the desired grade knowing that the student has a healthy social life?\n",
    "- A healthy social life is defined as having a value in the 'goout' column greater than or equal to 3."
   ]
  },
  {
   "cell_type": "markdown",
   "id": "1d0287d5",
   "metadata": {},
   "source": [
    "*Problem interpretation*\n",
    "\n",
    "A = achieving the desired grade (>60) <br> \n",
    "B = the student has a healthy social life\n",
    "\n",
    "\\* Healthy social life → 'goout' >=3\n",
    "\n",
    "P(A|B) = P(B ∩ A) / P(B)"
   ]
  },
  {
   "cell_type": "code",
   "execution_count": null,
   "id": "368240dd",
   "metadata": {},
   "outputs": [
    {
     "data": {
      "application/vnd.microsoft.datawrangler.viewer.v0+json": {
       "columns": [
        {
         "name": "index",
         "rawType": "int64",
         "type": "integer"
        },
        {
         "name": "absences",
         "rawType": "int64",
         "type": "integer"
        },
        {
         "name": "grades",
         "rawType": "int64",
         "type": "integer"
        },
        {
         "name": "goout",
         "rawType": "int64",
         "type": "integer"
        },
        {
         "name": "abs_count",
         "rawType": "int64",
         "type": "integer"
        },
        {
         "name": "grades_count",
         "rawType": "bool",
         "type": "boolean"
        }
       ],
       "conversionMethod": "pd.DataFrame",
       "ref": "578c58cf-bd75-4ff4-972c-d3ab8b327df0",
       "rows": [
        [
         "0",
         "4",
         "55",
         "4",
         "0",
         "False"
        ],
        [
         "1",
         "2",
         "55",
         "3",
         "0",
         "False"
        ],
        [
         "2",
         "6",
         "60",
         "2",
         "1",
         "False"
        ],
        [
         "3",
         "0",
         "70",
         "2",
         "0",
         "True"
        ],
        [
         "4",
         "0",
         "65",
         "2",
         "0",
         "True"
        ]
       ],
       "shape": {
        "columns": 5,
        "rows": 5
       }
      },
      "text/html": [
       "<div>\n",
       "<style scoped>\n",
       "    .dataframe tbody tr th:only-of-type {\n",
       "        vertical-align: middle;\n",
       "    }\n",
       "\n",
       "    .dataframe tbody tr th {\n",
       "        vertical-align: top;\n",
       "    }\n",
       "\n",
       "    .dataframe thead th {\n",
       "        text-align: right;\n",
       "    }\n",
       "</style>\n",
       "<table border=\"1\" class=\"dataframe\">\n",
       "  <thead>\n",
       "    <tr style=\"text-align: right;\">\n",
       "      <th></th>\n",
       "      <th>absences</th>\n",
       "      <th>grades</th>\n",
       "      <th>goout</th>\n",
       "      <th>abs_count</th>\n",
       "      <th>grades_count</th>\n",
       "    </tr>\n",
       "  </thead>\n",
       "  <tbody>\n",
       "    <tr>\n",
       "      <th>0</th>\n",
       "      <td>4</td>\n",
       "      <td>55</td>\n",
       "      <td>4</td>\n",
       "      <td>0</td>\n",
       "      <td>False</td>\n",
       "    </tr>\n",
       "    <tr>\n",
       "      <th>1</th>\n",
       "      <td>2</td>\n",
       "      <td>55</td>\n",
       "      <td>3</td>\n",
       "      <td>0</td>\n",
       "      <td>False</td>\n",
       "    </tr>\n",
       "    <tr>\n",
       "      <th>2</th>\n",
       "      <td>6</td>\n",
       "      <td>60</td>\n",
       "      <td>2</td>\n",
       "      <td>1</td>\n",
       "      <td>False</td>\n",
       "    </tr>\n",
       "    <tr>\n",
       "      <th>3</th>\n",
       "      <td>0</td>\n",
       "      <td>70</td>\n",
       "      <td>2</td>\n",
       "      <td>0</td>\n",
       "      <td>True</td>\n",
       "    </tr>\n",
       "    <tr>\n",
       "      <th>4</th>\n",
       "      <td>0</td>\n",
       "      <td>65</td>\n",
       "      <td>2</td>\n",
       "      <td>0</td>\n",
       "      <td>True</td>\n",
       "    </tr>\n",
       "  </tbody>\n",
       "</table>\n",
       "</div>"
      ],
      "text/plain": [
       "   absences  grades  goout  abs_count  grades_count\n",
       "0         4      55      4          0         False\n",
       "1         2      55      3          0         False\n",
       "2         6      60      2          1         False\n",
       "3         0      70      2          0          True\n",
       "4         0      65      2          0          True"
      ]
     },
     "execution_count": 399,
     "metadata": {},
     "output_type": "execute_result"
    }
   ],
   "source": [
    "# We can recycle our old friend simple_DF DataFrame\n",
    "simple_DF.head()"
   ]
  },
  {
   "cell_type": "code",
   "execution_count": 414,
   "id": "62beb4e8",
   "metadata": {},
   "outputs": [
    {
     "data": {
      "application/vnd.microsoft.datawrangler.viewer.v0+json": {
       "columns": [
        {
         "name": "index",
         "rawType": "object",
         "type": "string"
        },
        {
         "name": "goout",
         "rawType": "float64",
         "type": "float"
        },
        {
         "name": "grades",
         "rawType": "float64",
         "type": "float"
        }
       ],
       "conversionMethod": "pd.DataFrame",
       "ref": "69126f83-4984-4fa3-9a7b-86108109ccbb",
       "rows": [
        [
         "count",
         "649.0",
         "649.0"
        ],
        [
         "mean",
         "3.184899845916795",
         "59.53004622496148"
        ],
        [
         "std",
         "1.175766113842312",
         "16.153281214024023"
        ],
        [
         "min",
         "1.0",
         "0.0"
        ],
        [
         "25%",
         "2.0",
         "50.0"
        ],
        [
         "50%",
         "3.0",
         "60.0"
        ],
        [
         "75%",
         "4.0",
         "70.0"
        ],
        [
         "max",
         "5.0",
         "95.0"
        ]
       ],
       "shape": {
        "columns": 2,
        "rows": 8
       }
      },
      "text/html": [
       "<div>\n",
       "<style scoped>\n",
       "    .dataframe tbody tr th:only-of-type {\n",
       "        vertical-align: middle;\n",
       "    }\n",
       "\n",
       "    .dataframe tbody tr th {\n",
       "        vertical-align: top;\n",
       "    }\n",
       "\n",
       "    .dataframe thead th {\n",
       "        text-align: right;\n",
       "    }\n",
       "</style>\n",
       "<table border=\"1\" class=\"dataframe\">\n",
       "  <thead>\n",
       "    <tr style=\"text-align: right;\">\n",
       "      <th></th>\n",
       "      <th>goout</th>\n",
       "      <th>grades</th>\n",
       "    </tr>\n",
       "  </thead>\n",
       "  <tbody>\n",
       "    <tr>\n",
       "      <th>count</th>\n",
       "      <td>649.000000</td>\n",
       "      <td>649.000000</td>\n",
       "    </tr>\n",
       "    <tr>\n",
       "      <th>mean</th>\n",
       "      <td>3.184900</td>\n",
       "      <td>59.530046</td>\n",
       "    </tr>\n",
       "    <tr>\n",
       "      <th>std</th>\n",
       "      <td>1.175766</td>\n",
       "      <td>16.153281</td>\n",
       "    </tr>\n",
       "    <tr>\n",
       "      <th>min</th>\n",
       "      <td>1.000000</td>\n",
       "      <td>0.000000</td>\n",
       "    </tr>\n",
       "    <tr>\n",
       "      <th>25%</th>\n",
       "      <td>2.000000</td>\n",
       "      <td>50.000000</td>\n",
       "    </tr>\n",
       "    <tr>\n",
       "      <th>50%</th>\n",
       "      <td>3.000000</td>\n",
       "      <td>60.000000</td>\n",
       "    </tr>\n",
       "    <tr>\n",
       "      <th>75%</th>\n",
       "      <td>4.000000</td>\n",
       "      <td>70.000000</td>\n",
       "    </tr>\n",
       "    <tr>\n",
       "      <th>max</th>\n",
       "      <td>5.000000</td>\n",
       "      <td>95.000000</td>\n",
       "    </tr>\n",
       "  </tbody>\n",
       "</table>\n",
       "</div>"
      ],
      "text/plain": [
       "            goout      grades\n",
       "count  649.000000  649.000000\n",
       "mean     3.184900   59.530046\n",
       "std      1.175766   16.153281\n",
       "min      1.000000    0.000000\n",
       "25%      2.000000   50.000000\n",
       "50%      3.000000   60.000000\n",
       "75%      4.000000   70.000000\n",
       "max      5.000000   95.000000"
      ]
     },
     "execution_count": 414,
     "metadata": {},
     "output_type": "execute_result"
    }
   ],
   "source": [
    "# Refresher (just for the columns that we are going go use)\n",
    "simple_DF[['goout', 'grades']].describe()"
   ]
  },
  {
   "cell_type": "code",
   "execution_count": 415,
   "id": "f7bd6f08",
   "metadata": {},
   "outputs": [
    {
     "data": {
      "text/plain": [
       "array([[<Axes: title={'center': 'goout'}>,\n",
       "        <Axes: title={'center': 'grades'}>]], dtype=object)"
      ]
     },
     "execution_count": 415,
     "metadata": {},
     "output_type": "execute_result"
    },
    {
     "data": {
      "image/png": "[encoded data removed]",
      "text/plain": [
       "<Figure size 640x480 with 2 Axes>"
      ]
     },
     "metadata": {},
     "output_type": "display_data"
    }
   ],
   "source": [
    "simple_DF[['goout', 'grades']].hist()"
   ]
  },
  {
   "cell_type": "code",
   "execution_count": null,
   "id": "48d1640f",
   "metadata": {},
   "outputs": [
    {
     "data": {
      "text/plain": [
       "<Axes: >"
      ]
     },
     "execution_count": 419,
     "metadata": {},
     "output_type": "execute_result"
    },
    {
     "data": {
      "image/png": "[encoded data removed]",
      "text/plain": [
       "<Figure size 640x480 with 1 Axes>"
      ]
     },
     "metadata": {},
     "output_type": "display_data"
    }
   ],
   "source": [
    "simple_DF[['goout']].boxplot()"
   ]
  },
  {
   "cell_type": "code",
   "execution_count": 420,
   "id": "261f8a06",
   "metadata": {},
   "outputs": [
    {
     "data": {
      "text/plain": [
       "<Axes: >"
      ]
     },
     "execution_count": 420,
     "metadata": {},
     "output_type": "execute_result"
    },
    {
     "data": {
      "image/png": "[encoded data removed]",
      "text/plain": [
       "<Figure size 640x480 with 1 Axes>"
      ]
     },
     "metadata": {},
     "output_type": "display_data"
    }
   ],
   "source": [
    "simple_DF[['grades']].boxplot()"
   ]
  },
  {
   "cell_type": "code",
   "execution_count": 421,
   "id": "55a01b10",
   "metadata": {},
   "outputs": [
    {
     "name": "stderr",
     "output_type": "stream",
     "text": [
      "C:\\Users\\jbosc\\AppData\\Local\\Temp\\ipykernel_17852\\766683638.py:1: FutureWarning: the convert_dtype parameter is deprecated and will be removed in a future version.  Do ``ser.astype(object).apply()`` instead if you want ``convert_dtype=False``.\n",
      "  simple_DF['goout_count'] = simple_DF['goout'].apply(lambda x: x>=3, 1, 0)\n"
     ]
    }
   ],
   "source": [
    "simple_DF['goout_count'] = simple_DF['goout'].apply(lambda x: x>=3, 1, 0)"
   ]
  },
  {
   "cell_type": "code",
   "execution_count": 422,
   "id": "85daa640",
   "metadata": {},
   "outputs": [
    {
     "name": "stdout",
     "output_type": "stream",
     "text": [
      "Probability of student having a healthy social life:  0.7026194144838213\n"
     ]
    }
   ],
   "source": [
    "prob_social_life = simple_DF[\"goout_count\"].mean()\n",
    "\n",
    "print(f'Probability of student having a healthy social life: ', prob_social_life)"
   ]
  },
  {
   "cell_type": "code",
   "execution_count": 423,
   "id": "241b530f",
   "metadata": {},
   "outputs": [
    {
     "name": "stdout",
     "output_type": "stream",
     "text": [
      "Probability of scoring > 60:  0.4252696456086287\n"
     ]
    }
   ],
   "source": [
    "prob_score = simple_DF[\"grades_count\"].mean()\n",
    "\n",
    "print(f\"Probability of scoring > 60: \" , prob_score)"
   ]
  },
  {
   "cell_type": "code",
   "execution_count": 426,
   "id": "2a31c33f",
   "metadata": {},
   "outputs": [
    {
     "name": "stdout",
     "output_type": "stream",
     "text": [
      "P(B ∩ A):  0.29880270939527687\n"
     ]
    }
   ],
   "source": [
    "prob_intersection = prob_score * prob_social_life\n",
    "\n",
    "print(f'P(B ∩ A): ', prob_intersection)"
   ]
  },
  {
   "cell_type": "code",
   "execution_count": 427,
   "id": "1e7f4981",
   "metadata": {},
   "outputs": [
    {
     "name": "stdout",
     "output_type": "stream",
     "text": [
      "Probability of passing having a healthy life:  0.7026194144838213\n"
     ]
    }
   ],
   "source": [
    "# Final calculation: \n",
    "# P(A|B) = P(B ∩ A) / P(B)\n",
    "\n",
    "p_achievin_grade_coditioned_healthy_social = prob_intersection / prob_score\n",
    "\n",
    "print(f\"Probability of passing having a healthy life: \", p_achievin_grade_coditioned_healthy_social)"
   ]
  }
 ],
 "metadata": {
  "kaggle": {
   "accelerator": "none",
   "dataSources": [],
   "dockerImageVersionId": 31012,
   "isGpuEnabled": false,
   "isInternetEnabled": true,
   "language": "python",
   "sourceType": "notebook"
  },
  "kernelspec": {
   "display_name": "Python 3",
   "language": "python",
   "name": "python3"
  },
  "language_info": {
   "codemirror_mode": {
    "name": "ipython",
    "version": 3
   },
   "file_extension": ".py",
   "mimetype": "text/x-python",
   "name": "python",
   "nbconvert_exporter": "python",
   "pygments_lexer": "ipython3",
   "version": "3.13.1"
  },
  "papermill": {
   "default_parameters": {},
   "duration": 8.149676,
   "end_time": "2025-04-26T23:15:00.508703",
   "environment_variables": {},
   "exception": null,
   "input_path": "__notebook__.ipynb",
   "output_path": "__notebook__.ipynb",
   "parameters": {},
   "start_time": "2025-04-26T23:14:52.359027",
   "version": "2.6.0"
  }
 },
 "nbformat": 4,
 "nbformat_minor": 5
}
