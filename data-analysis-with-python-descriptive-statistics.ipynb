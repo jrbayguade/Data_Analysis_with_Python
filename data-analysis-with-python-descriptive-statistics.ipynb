{
 "cells": [
  {
   "cell_type": "code",
   "execution_count": 1,
   "id": "41dcebe3",
   "metadata": {
    "_cell_guid": "b1076dfc-b9ad-4769-8c92-a6c4dae69d19",
    "_uuid": "8f2839f25d086af736a60e9eeb907d3b93b6e0e5",
    "execution": {
     "iopub.execute_input": "2025-04-24T18:23:05.765017Z",
     "iopub.status.busy": "2025-04-24T18:23:05.764152Z",
     "iopub.status.idle": "2025-04-24T18:23:07.601734Z",
     "shell.execute_reply": "2025-04-24T18:23:07.600939Z"
    },
    "papermill": {
     "duration": 1.845403,
     "end_time": "2025-04-24T18:23:07.603315",
     "exception": false,
     "start_time": "2025-04-24T18:23:05.757912",
     "status": "completed"
    },
    "tags": []
   },
   "outputs": [],
   "source": [
    "# This Python 3 environment comes with many helpful analytics libraries installed\n",
    "# It is defined by the kaggle/python Docker image: https://github.com/kaggle/docker-python\n",
    "# For example, here's several helpful packages to load\n",
    "\n",
    "import numpy as np # linear algebra\n",
    "import pandas as pd # data processing, CSV file I/O (e.g. pd.read_csv)\n",
    "import matplotlib.pyplot as plt # charts\n",
    "import statistics # median, mean, etc.\n",
    "\n",
    "# Input data files are available in the read-only \"../input/\" directory\n",
    "# For example, running this (by clicking run or pressing Shift+Enter) will list all files under the input directory\n",
    "\n",
    "import os\n",
    "for dirname, _, filenames in os.walk('/kaggle/input'):\n",
    "    for filename in filenames:\n",
    "        print(os.path.join(dirname, filename))\n",
    "\n",
    "# You can write up to 20GB to the current directory (/kaggle/working/) that gets preserved as output when you create a version using \"Save & Run All\" \n",
    "# You can also write temporary files to /kaggle/temp/, but they won't be saved outside of the current session"
   ]
  },
  {
   "cell_type": "markdown",
   "id": "930087aa",
   "metadata": {
    "papermill": {
     "duration": 0.003429,
     "end_time": "2025-04-24T18:23:07.610871",
     "exception": false,
     "start_time": "2025-04-24T18:23:07.607442",
     "status": "completed"
    },
    "tags": []
   },
   "source": [
    "**Measures of central tendency and dispersion**"
   ]
  },
  {
   "cell_type": "code",
   "execution_count": 2,
   "id": "c8496b18",
   "metadata": {
    "execution": {
     "iopub.execute_input": "2025-04-24T18:23:07.619838Z",
     "iopub.status.busy": "2025-04-24T18:23:07.618937Z",
     "iopub.status.idle": "2025-04-24T18:23:08.325850Z",
     "shell.execute_reply": "2025-04-24T18:23:08.324723Z"
    },
    "papermill": {
     "duration": 0.713277,
     "end_time": "2025-04-24T18:23:08.327793",
     "exception": false,
     "start_time": "2025-04-24T18:23:07.614516",
     "status": "completed"
    },
    "tags": []
   },
   "outputs": [],
   "source": [
    "# CSV download\n",
    "url_amz=\"https://raw.githubusercontent.com/NechuBM/dataset/main/precios_amazon.csv\"\n",
    "!wget {url_amz} -q -O precios_amazon.csv\n",
    "url_eth=\"https://raw.githubusercontent.com/NechuBM/dataset/main/precios_ethereum.csv\"\n",
    "!wget {url_eth} -q -O precios_ethereum.csv"
   ]
  },
  {
   "cell_type": "code",
   "execution_count": 3,
   "id": "99d784e7",
   "metadata": {
    "execution": {
     "iopub.execute_input": "2025-04-24T18:23:08.336710Z",
     "iopub.status.busy": "2025-04-24T18:23:08.336354Z",
     "iopub.status.idle": "2025-04-24T18:23:08.406614Z",
     "shell.execute_reply": "2025-04-24T18:23:08.405684Z"
    },
    "papermill": {
     "duration": 0.076666,
     "end_time": "2025-04-24T18:23:08.408283",
     "exception": false,
     "start_time": "2025-04-24T18:23:08.331617",
     "status": "completed"
    },
    "tags": []
   },
   "outputs": [
    {
     "name": "stdout",
     "output_type": "stream",
     "text": [
      "              Open         High          Low        Close    Adj Close  \\\n",
      "count   295.000000   295.000000   295.000000   295.000000   295.000000   \n",
      "mean   3302.138885  3338.047183  3263.254206  3299.830896  3299.839902   \n",
      "std     195.144908   191.478427   201.148439   197.082087   197.078674   \n",
      "min    2733.669922  2805.000000  2671.449951  2720.290039  2720.290039   \n",
      "25%    3185.515015  3230.369995  3158.119995  3192.494995  3192.494995   \n",
      "50%    3317.000000  3347.800049  3288.899902  3312.530029  3312.530029   \n",
      "75%    3424.905029  3461.430054  3394.885010  3430.170044  3430.170044   \n",
      "max    3744.000000  3773.080078  3696.790039  3731.409912  3731.409912   \n",
      "\n",
      "             Volume  \n",
      "count  2.950000e+02  \n",
      "mean   3.472632e+06  \n",
      "std    1.377987e+06  \n",
      "min    1.680300e+06  \n",
      "25%    2.582100e+06  \n",
      "50%    3.185300e+06  \n",
      "75%    3.895600e+06  \n",
      "max    1.267280e+07  \n",
      "       Unnamed: 0.1  Unnamed: 0         Open         High          Low  \\\n",
      "count    425.000000  425.000000   425.000000   425.000000   425.000000   \n",
      "mean     212.000000  212.000000  2919.305676  3017.265236  2808.954836   \n",
      "std      122.831185  122.831185   858.794397   874.744733   838.704567   \n",
      "min        0.000000    0.000000  1314.855225  1373.845825  1274.357788   \n",
      "25%      106.000000  106.000000  2214.413818  2318.423340  2108.829834   \n",
      "50%      212.000000  212.000000  2880.187744  2964.673340  2751.560791   \n",
      "75%      318.000000  318.000000  3546.477783  3615.282715  3386.239990   \n",
      "max      424.000000  424.000000  4810.071289  4891.704590  4718.039062   \n",
      "\n",
      "             Close    Adj Close        Volume  \n",
      "count   425.000000   425.000000  4.250000e+02  \n",
      "mean   2923.205087  2923.074343  2.387101e+10  \n",
      "std     854.125694   854.181064  1.120135e+10  \n",
      "min    1314.986206  1314.986206  6.532997e+09  \n",
      "25%    2226.114258  2226.114258  1.622203e+10  \n",
      "50%    2883.463379  2883.463379  2.122991e+10  \n",
      "75%    3545.354004  3545.354004  2.822066e+10  \n",
      "max    4812.087402  4812.087402  8.448291e+10  \n"
     ]
    }
   ],
   "source": [
    "# Load and check the dataframes\n",
    "df_amz = pd.read_csv('precios_amazon.csv', sep=';', decimal=',')\n",
    "df_eth = pd.read_csv('precios_ethereum.csv', sep=';', decimal=',')\n",
    "\n",
    "print(df_amz.describe())\n",
    "print(df_eth.describe())"
   ]
  },
  {
   "cell_type": "code",
   "execution_count": 4,
   "id": "df5d462a",
   "metadata": {
    "execution": {
     "iopub.execute_input": "2025-04-24T18:23:08.418548Z",
     "iopub.status.busy": "2025-04-24T18:23:08.417792Z",
     "iopub.status.idle": "2025-04-24T18:23:08.424510Z",
     "shell.execute_reply": "2025-04-24T18:23:08.423674Z"
    },
    "papermill": {
     "duration": 0.01315,
     "end_time": "2025-04-24T18:23:08.425945",
     "exception": false,
     "start_time": "2025-04-24T18:23:08.412795",
     "status": "completed"
    },
    "tags": []
   },
   "outputs": [
    {
     "data": {
      "text/plain": [
       "295"
      ]
     },
     "execution_count": 4,
     "metadata": {},
     "output_type": "execute_result"
    }
   ],
   "source": [
    "len(df_amz)"
   ]
  },
  {
   "cell_type": "code",
   "execution_count": 5,
   "id": "b622bc0f",
   "metadata": {
    "execution": {
     "iopub.execute_input": "2025-04-24T18:23:08.435498Z",
     "iopub.status.busy": "2025-04-24T18:23:08.434720Z",
     "iopub.status.idle": "2025-04-24T18:23:08.440164Z",
     "shell.execute_reply": "2025-04-24T18:23:08.439336Z"
    },
    "papermill": {
     "duration": 0.011578,
     "end_time": "2025-04-24T18:23:08.441486",
     "exception": false,
     "start_time": "2025-04-24T18:23:08.429908",
     "status": "completed"
    },
    "tags": []
   },
   "outputs": [
    {
     "data": {
      "text/plain": [
       "425"
      ]
     },
     "execution_count": 5,
     "metadata": {},
     "output_type": "execute_result"
    }
   ],
   "source": [
    "len(df_eth)"
   ]
  },
  {
   "cell_type": "code",
   "execution_count": 6,
   "id": "155ee2ec",
   "metadata": {
    "execution": {
     "iopub.execute_input": "2025-04-24T18:23:08.451013Z",
     "iopub.status.busy": "2025-04-24T18:23:08.450683Z",
     "iopub.status.idle": "2025-04-24T18:23:08.456547Z",
     "shell.execute_reply": "2025-04-24T18:23:08.455604Z"
    },
    "papermill": {
     "duration": 0.012453,
     "end_time": "2025-04-24T18:23:08.458109",
     "exception": false,
     "start_time": "2025-04-24T18:23:08.445656",
     "status": "completed"
    },
    "tags": []
   },
   "outputs": [],
   "source": [
    "def discard_days(df, days):\n",
    "    \"\"\" Discard elements from the dataframe if they are included in the days list \"\"\"\n",
    "    # Make a copy to prevent changes in the original one\n",
    "    df_discard = df.copy()\n",
    "    \n",
    "    # reset the index\n",
    "    df_discard.reset_index(inplace=True)\n",
    "\n",
    "    # modify the format of the data in the column 'Date' to datetime\n",
    "    df_discard['Date'] = pd.to_datetime(df_discard['Date'])\n",
    "\n",
    "    # crea una nueva columna con los días de la semana a partir de la columna 'Date'\n",
    "    df_discard['Day'] = df_discard[\"Date\"].dt.day_name()\n",
    "\n",
    "    # descartar días que esten en la lista 'days'\n",
    "    df_discard = df_discard.loc[~df_discard['Day'].isin(days)]\n",
    "\n",
    "    return df_discard"
   ]
  },
  {
   "cell_type": "code",
   "execution_count": 7,
   "id": "00130d34",
   "metadata": {
    "execution": {
     "iopub.execute_input": "2025-04-24T18:23:08.467760Z",
     "iopub.status.busy": "2025-04-24T18:23:08.467119Z",
     "iopub.status.idle": "2025-04-24T18:23:08.486272Z",
     "shell.execute_reply": "2025-04-24T18:23:08.485433Z"
    },
    "papermill": {
     "duration": 0.025454,
     "end_time": "2025-04-24T18:23:08.487819",
     "exception": false,
     "start_time": "2025-04-24T18:23:08.462365",
     "status": "completed"
    },
    "tags": []
   },
   "outputs": [],
   "source": [
    "df_eth_week = discard_days(df_eth, ['Saturday', 'Sunday'])"
   ]
  },
  {
   "cell_type": "code",
   "execution_count": 8,
   "id": "45243693",
   "metadata": {
    "execution": {
     "iopub.execute_input": "2025-04-24T18:23:08.497249Z",
     "iopub.status.busy": "2025-04-24T18:23:08.496932Z",
     "iopub.status.idle": "2025-04-24T18:23:08.502388Z",
     "shell.execute_reply": "2025-04-24T18:23:08.501604Z"
    },
    "papermill": {
     "duration": 0.011828,
     "end_time": "2025-04-24T18:23:08.503773",
     "exception": false,
     "start_time": "2025-04-24T18:23:08.491945",
     "status": "completed"
    },
    "tags": []
   },
   "outputs": [
    {
     "data": {
      "text/plain": [
       "304"
      ]
     },
     "execution_count": 8,
     "metadata": {},
     "output_type": "execute_result"
    }
   ],
   "source": [
    "# We have killed the weekends from the DataFrame\n",
    "len(df_eth_week) \n",
    "\n",
    "# We could also clear the festives in which Amazon is not operating in the stock market... but is not necessary for the purpose of this small exercise"
   ]
  },
  {
   "cell_type": "code",
   "execution_count": 9,
   "id": "3b150fd3",
   "metadata": {
    "execution": {
     "iopub.execute_input": "2025-04-24T18:23:08.512934Z",
     "iopub.status.busy": "2025-04-24T18:23:08.512642Z",
     "iopub.status.idle": "2025-04-24T18:23:08.517146Z",
     "shell.execute_reply": "2025-04-24T18:23:08.516335Z"
    },
    "papermill": {
     "duration": 0.010726,
     "end_time": "2025-04-24T18:23:08.518571",
     "exception": false,
     "start_time": "2025-04-24T18:23:08.507845",
     "status": "completed"
    },
    "tags": []
   },
   "outputs": [],
   "source": [
    "# Get Amazon's daily closing price\n",
    "prices_amz = df_amz['Close'].tolist()\n",
    "prices_eth = df_eth_week['Close'].tolist()"
   ]
  },
  {
   "cell_type": "code",
   "execution_count": 10,
   "id": "e4afc725",
   "metadata": {
    "execution": {
     "iopub.execute_input": "2025-04-24T18:23:08.527963Z",
     "iopub.status.busy": "2025-04-24T18:23:08.527690Z",
     "iopub.status.idle": "2025-04-24T18:23:08.534470Z",
     "shell.execute_reply": "2025-04-24T18:23:08.533636Z"
    },
    "papermill": {
     "duration": 0.012911,
     "end_time": "2025-04-24T18:23:08.535811",
     "exception": false,
     "start_time": "2025-04-24T18:23:08.522900",
     "status": "completed"
    },
    "tags": []
   },
   "outputs": [
    {
     "name": "stdout",
     "output_type": "stream",
     "text": [
      "Amazon. Median: 3313, Mean: 3300\n",
      "Ethereum. Median: 2885, Mean: 2927\n"
     ]
    }
   ],
   "source": [
    "\n",
    "\n",
    "# Amazon\n",
    "median_amz = round(statistics.median(prices_amz))\n",
    "mean_amz = round(statistics.mean(prices_amz))        \n",
    "print(f\"Amazon. Median: {median_amz}, Mean: {mean_amz}\")\n",
    "\n",
    "prices_amz_red = []\n",
    "for value in prices_amz:\n",
    "    prices_amz_red.append(round(value))\n",
    "    \n",
    "\n",
    "\n",
    "# Ethereum\n",
    "median_eth = round(statistics.median(prices_eth))\n",
    "mean_eth = round(statistics.mean(prices_eth))\n",
    "print(f\"Ethereum. Median: {median_eth}, Mean: {mean_eth}\")\n",
    "\n",
    "\n",
    "prices_eth_red = []\n",
    "for value in prices_eth:\n",
    "    prices_eth_red.append(round(value))"
   ]
  },
  {
   "cell_type": "code",
   "execution_count": 11,
   "id": "ac4aed90",
   "metadata": {
    "execution": {
     "iopub.execute_input": "2025-04-24T18:23:08.545117Z",
     "iopub.status.busy": "2025-04-24T18:23:08.544832Z",
     "iopub.status.idle": "2025-04-24T18:23:08.550991Z",
     "shell.execute_reply": "2025-04-24T18:23:08.550111Z"
    },
    "papermill": {
     "duration": 0.012384,
     "end_time": "2025-04-24T18:23:08.552257",
     "exception": false,
     "start_time": "2025-04-24T18:23:08.539873",
     "status": "completed"
    },
    "tags": []
   },
   "outputs": [
    {
     "name": "stdout",
     "output_type": "stream",
     "text": [
      "Amazon's Median: 3313\n",
      "Ethereum's Median: 2889\n"
     ]
    }
   ],
   "source": [
    "# Just for fun, get the median \"manually\"\n",
    "# Amazon's\n",
    "pric_amz_ord = sorted(prices_amz)\n",
    "amz_len = round(len(pric_amz_ord) / 2)\n",
    "median_amz = round(pric_amz_ord[amz_len])\n",
    "print(f\"Amazon's Median: {median_amz}\")\n",
    "\n",
    "\n",
    "# Ethereum's\n",
    "pric_eth_ord = sorted(prices_eth)\n",
    "eth_len = round(len(pric_eth_ord) / 2)\n",
    "median_eth = round(pric_eth_ord[eth_len])\n",
    "print(f\"Ethereum's Median: {median_eth}\")\n"
   ]
  },
  {
   "cell_type": "code",
   "execution_count": 12,
   "id": "bfca6c09",
   "metadata": {
    "execution": {
     "iopub.execute_input": "2025-04-24T18:23:08.561649Z",
     "iopub.status.busy": "2025-04-24T18:23:08.561349Z",
     "iopub.status.idle": "2025-04-24T18:23:08.566500Z",
     "shell.execute_reply": "2025-04-24T18:23:08.565840Z"
    },
    "papermill": {
     "duration": 0.011294,
     "end_time": "2025-04-24T18:23:08.567805",
     "exception": false,
     "start_time": "2025-04-24T18:23:08.556511",
     "status": "completed"
    },
    "tags": []
   },
   "outputs": [],
   "source": [
    "counter_amz = {}\n",
    "\n",
    "for key in prices_amz_red:\n",
    "    if key in counter_amz:\n",
    "        counter_amz[key] += 1\n",
    "    else:\n",
    "        counter_amz[key] = 1\n",
    "\n",
    "counter_eth = {}\n",
    "\n",
    "for key in prices_eth_red:\n",
    "    if key in counter_eth:\n",
    "        counter_eth[key] += 1\n",
    "    else:\n",
    "        counter_eth[key] = 1\n",
    "\n",
    "\n",
    "mode_amz = max(counter_amz, key=counter_amz.get)\n",
    "mode_eth = max(counter_eth, key=counter_eth.get)"
   ]
  },
  {
   "cell_type": "code",
   "execution_count": 13,
   "id": "8f80c013",
   "metadata": {
    "execution": {
     "iopub.execute_input": "2025-04-24T18:23:08.577225Z",
     "iopub.status.busy": "2025-04-24T18:23:08.576751Z",
     "iopub.status.idle": "2025-04-24T18:23:08.581529Z",
     "shell.execute_reply": "2025-04-24T18:23:08.580528Z"
    },
    "papermill": {
     "duration": 0.011079,
     "end_time": "2025-04-24T18:23:08.582972",
     "exception": false,
     "start_time": "2025-04-24T18:23:08.571893",
     "status": "completed"
    },
    "tags": []
   },
   "outputs": [
    {
     "name": "stdout",
     "output_type": "stream",
     "text": [
      "Amazon mode: 3224\n",
      "Ethereum mode: 2590\n"
     ]
    }
   ],
   "source": [
    "print(f\"Amazon mode: {mode_amz}\")\n",
    "print(f\"Ethereum mode: {mode_eth}\")"
   ]
  },
  {
   "cell_type": "code",
   "execution_count": 14,
   "id": "60932bf1",
   "metadata": {
    "execution": {
     "iopub.execute_input": "2025-04-24T18:23:08.592028Z",
     "iopub.status.busy": "2025-04-24T18:23:08.591792Z",
     "iopub.status.idle": "2025-04-24T18:23:08.608139Z",
     "shell.execute_reply": "2025-04-24T18:23:08.607424Z"
    },
    "papermill": {
     "duration": 0.022404,
     "end_time": "2025-04-24T18:23:08.609410",
     "exception": false,
     "start_time": "2025-04-24T18:23:08.587006",
     "status": "completed"
    },
    "tags": []
   },
   "outputs": [
    {
     "data": {
      "text/html": [
       "<div>\n",
       "<style scoped>\n",
       "    .dataframe tbody tr th:only-of-type {\n",
       "        vertical-align: middle;\n",
       "    }\n",
       "\n",
       "    .dataframe tbody tr th {\n",
       "        vertical-align: top;\n",
       "    }\n",
       "\n",
       "    .dataframe thead th {\n",
       "        text-align: right;\n",
       "    }\n",
       "</style>\n",
       "<table border=\"1\" class=\"dataframe\">\n",
       "  <thead>\n",
       "    <tr style=\"text-align: right;\">\n",
       "      <th></th>\n",
       "      <th>Median</th>\n",
       "      <th>Mean</th>\n",
       "      <th>Mode</th>\n",
       "    </tr>\n",
       "  </thead>\n",
       "  <tbody>\n",
       "    <tr>\n",
       "      <th>AMZ</th>\n",
       "      <td>3313</td>\n",
       "      <td>3300</td>\n",
       "      <td>3224</td>\n",
       "    </tr>\n",
       "    <tr>\n",
       "      <th>ETH</th>\n",
       "      <td>2889</td>\n",
       "      <td>2927</td>\n",
       "      <td>2590</td>\n",
       "    </tr>\n",
       "  </tbody>\n",
       "</table>\n",
       "</div>"
      ],
      "text/plain": [
       "     Median  Mean  Mode\n",
       "AMZ    3313  3300  3224\n",
       "ETH    2889  2927  2590"
      ]
     },
     "execution_count": 14,
     "metadata": {},
     "output_type": "execute_result"
    }
   ],
   "source": [
    "pd.DataFrame(\n",
    "    [\n",
    "        [median_amz, mean_amz, mode_amz],\n",
    "        [median_eth, mean_eth, mode_eth]\n",
    "    ],\n",
    "    index=['AMZ', 'ETH'],\n",
    "    columns=['Median', 'Mean', 'Mode']\n",
    ")"
   ]
  },
  {
   "cell_type": "markdown",
   "id": "8c01885f",
   "metadata": {
    "papermill": {
     "duration": 0.003971,
     "end_time": "2025-04-24T18:23:08.617716",
     "exception": false,
     "start_time": "2025-04-24T18:23:08.613745",
     "status": "completed"
    },
    "tags": []
   },
   "source": [
    "**Histogram chart**"
   ]
  },
  {
   "cell_type": "code",
   "execution_count": 15,
   "id": "d164cf66",
   "metadata": {
    "execution": {
     "iopub.execute_input": "2025-04-24T18:23:08.627040Z",
     "iopub.status.busy": "2025-04-24T18:23:08.626767Z",
     "iopub.status.idle": "2025-04-24T18:23:08.835161Z",
     "shell.execute_reply": "2025-04-24T18:23:08.834312Z"
    },
    "papermill": {
     "duration": 0.214767,
     "end_time": "2025-04-24T18:23:08.836521",
     "exception": false,
     "start_time": "2025-04-24T18:23:08.621754",
     "status": "completed"
    },
    "tags": []
   },
   "outputs": [
    {
     "data": {
      "image/png": "[encoded data removed]",
      "text/plain": [
       "<Figure size 640x480 with 1 Axes>"
      ]
     },
     "metadata": {},
     "output_type": "display_data"
    }
   ],
   "source": [
    "plt.hist(prices_amz)\n",
    "plt.show()"
   ]
  },
  {
   "cell_type": "code",
   "execution_count": 16,
   "id": "a2c72e7d",
   "metadata": {
    "execution": {
     "iopub.execute_input": "2025-04-24T18:23:08.847202Z",
     "iopub.status.busy": "2025-04-24T18:23:08.846926Z",
     "iopub.status.idle": "2025-04-24T18:23:09.258261Z",
     "shell.execute_reply": "2025-04-24T18:23:09.257367Z"
    },
    "papermill": {
     "duration": 0.418631,
     "end_time": "2025-04-24T18:23:09.259748",
     "exception": false,
     "start_time": "2025-04-24T18:23:08.841117",
     "status": "completed"
    },
    "tags": []
   },
   "outputs": [
    {
     "name": "stdout",
     "output_type": "stream",
     "text": [
      "Amazon's variance: 38709.683606697006\n",
      "Ethereum's variance: 722817.4747446611\n",
      "Amazon's coefficient of variation (CV): 0.05938658812533453\n",
      "Ethereum's coefficient of variation (CV): 0.29428408769100134\n"
     ]
    },
    {
     "data": {
      "image/png": "[encoded data removed]",
      "text/plain": [
       "<Figure size 1500x500 with 2 Axes>"
      ]
     },
     "metadata": {},
     "output_type": "display_data"
    }
   ],
   "source": [
    "# We set the histograms up in a way that we are comparing them the right way\n",
    "# without distortions\n",
    "\n",
    "# 2 histograms is better than one, we use plt.subplots for that purpose\n",
    "fig, (ax1, ax2) = plt.subplots(nrows=1, ncols=2, figsize=(15, 5)) \n",
    "ax1.hist(prices_amz, bins=15)    # AMZ histogram. dataframe, num of bins\n",
    "ax1.set_title('Amazon prices')   # title\n",
    "ax1.set_xlim(1000, 5000)         # personalize X rank\n",
    "ax1.set_ylim(0, 60)              # personalize Y rank\n",
    "\n",
    "ax2.hist(prices_eth, bins=15)    # ETH histogram\n",
    "ax2.set_title('Ethereum prices')\n",
    "ax2.set_xlim(1000, 5000)\n",
    "ax2.set_ylim(0, 60)\n",
    "\n",
    "fig.suptitle('Prices Histogram') # just a fancy title\n",
    "\n",
    "# And there we can see that the AMZ price is much less volatile than ETH\n",
    "# as the variance will confirm\n",
    "AMZ_variance = np.var(prices_amz)\n",
    "print(f\"Amazon's variance: {AMZ_variance}\")\n",
    "\n",
    "ETH_variance = np.var(prices_eth)\n",
    "print(f\"Ethereum's variance: {ETH_variance}\")\n",
    "\n",
    "# But never compare variance of numbers with different scales.. \n",
    "#(ETH price is very different from AMZ's..)... let's rely on the \n",
    "# coefficient of variation (CV = std / mean)\n",
    "amz_cv = np.sqrt(AMZ_variance) / median_amz\n",
    "print(f\"Amazon's coefficient of variation (CV): {amz_cv}\")\n",
    "\n",
    "eth_cv = np.sqrt(ETH_variance) / median_eth\n",
    "print(f\"Ethereum's coefficient of variation (CV): {eth_cv}\")\n",
    "\n",
    "# Here we can compare apples with apples (AMZ CV = 0.059, ETH CV = 0.29)\n",
    "# so f**k yeah, ETH has a much higher variance (quite obvious  by now)"
   ]
  },
  {
   "cell_type": "markdown",
   "id": "0e55522e",
   "metadata": {
    "papermill": {
     "duration": 0.004893,
     "end_time": "2025-04-24T18:23:09.269924",
     "exception": false,
     "start_time": "2025-04-24T18:23:09.265031",
     "status": "completed"
    },
    "tags": []
   },
   "source": [
    "**Dispersion measures**\n",
    "* Maximum\n",
    "* Minimum\n",
    "* Third quartile (Q3)\n",
    "* Second quartile (Q2 - mean)\n",
    "* First quaritle (Q1)\n",
    "* Minimum"
   ]
  },
  {
   "cell_type": "code",
   "execution_count": 17,
   "id": "e840b7bc",
   "metadata": {
    "execution": {
     "iopub.execute_input": "2025-04-24T18:23:09.281169Z",
     "iopub.status.busy": "2025-04-24T18:23:09.280886Z",
     "iopub.status.idle": "2025-04-24T18:23:09.288776Z",
     "shell.execute_reply": "2025-04-24T18:23:09.287820Z"
    },
    "papermill": {
     "duration": 0.01491,
     "end_time": "2025-04-24T18:23:09.289994",
     "exception": false,
     "start_time": "2025-04-24T18:23:09.275084",
     "status": "completed"
    },
    "tags": []
   },
   "outputs": [
    {
     "name": "stdout",
     "output_type": "stream",
     "text": [
      "[9, 12, 12, 33, 95, 100, 100, 105, 110, 120, 250, 840]\n",
      "Median = Q2:  100.0\n",
      "Max:  840\n",
      "Min:  9\n",
      "Q1:  22.5\n",
      "Q3:  115.0\n",
      "Range:  831\n",
      "Interquartile range (IQR) = Q3-Q1:  92.5\n"
     ]
    }
   ],
   "source": [
    "# Data to play with\n",
    "data = [110, 105, 100, 840, 95, 100, 120, 250, 12, 9, 12, 33]\n",
    "\n",
    "# Sort from small to big\n",
    "data.sort()\n",
    "print(data)\n",
    "\n",
    "median = np.median(data) # 12 elements, = (100 + 100) / 2 = 100\n",
    "q1 = np.quantile(data, 0.25, method='midpoint') # (33 + 12) / 2 = 22.5\n",
    "q3 = np.quantile(data, 0.75, method='midpoint') # (110 + 120) / 2 = 115\n",
    "\n",
    "print('Median = Q2: ', median)\n",
    "print('Max: ', max(data))\n",
    "print('Min: ', min(data))\n",
    "print('Q1: ', q1)\n",
    "print('Q3: ', q3)\n",
    "print('Range: ', max(data) - min(data))\n",
    "print('Interquartile range (IQR) = Q3-Q1: ', q3 - q1)\n"
   ]
  }
 ],
 "metadata": {
  "kaggle": {
   "accelerator": "none",
   "dataSources": [],
   "dockerImageVersionId": 31012,
   "isGpuEnabled": false,
   "isInternetEnabled": true,
   "language": "python",
   "sourceType": "notebook"
  },
  "kernelspec": {
   "display_name": "Python 3",
   "language": "python",
   "name": "python3"
  },
  "language_info": {
   "codemirror_mode": {
    "name": "ipython",
    "version": 3
   },
   "file_extension": ".py",
   "mimetype": "text/x-python",
   "name": "python",
   "nbconvert_exporter": "python",
   "pygments_lexer": "ipython3",
   "version": "3.11.11"
  },
  "papermill": {
   "default_parameters": {},
   "duration": 8.571606,
   "end_time": "2025-04-24T18:23:09.814239",
   "environment_variables": {},
   "exception": null,
   "input_path": "__notebook__.ipynb",
   "output_path": "__notebook__.ipynb",
   "parameters": {},
   "start_time": "2025-04-24T18:23:01.242633",
   "version": "2.6.0"
  }
 },
 "nbformat": 4,
 "nbformat_minor": 5
}
