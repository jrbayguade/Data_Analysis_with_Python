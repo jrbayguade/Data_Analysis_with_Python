{
 "cells": [
  {
   "cell_type": "markdown",
   "id": "6c28bd91",
   "metadata": {
    "papermill": {
     "duration": 0.00573,
     "end_time": "2025-04-25T15:05:27.487445",
     "exception": false,
     "start_time": "2025-04-25T15:05:27.481715",
     "status": "completed"
    },
    "tags": []
   },
   "source": [
    "This code is my implementation / practice corresponding to the following Descriptive Statistics course with Python (in Spanish)\n",
    "\n",
    "Based in the following YouTube Playlist\n",
    "\n",
    "https://www.youtube.com/playlist?list=PLxJ3eugu174JqpqulHkIf0wEmA2b5N5DF"
   ]
  },
  {
   "cell_type": "code",
   "execution_count": 42,
   "id": "d63a060f",
   "metadata": {
    "_cell_guid": "b1076dfc-b9ad-4769-8c92-a6c4dae69d19",
    "_uuid": "8f2839f25d086af736a60e9eeb907d3b93b6e0e5",
    "execution": {
     "iopub.execute_input": "2025-04-25T15:05:27.498720Z",
     "iopub.status.busy": "2025-04-25T15:05:27.498380Z",
     "iopub.status.idle": "2025-04-25T15:05:29.510928Z",
     "shell.execute_reply": "2025-04-25T15:05:29.509847Z"
    },
    "papermill": {
     "duration": 2.020438,
     "end_time": "2025-04-25T15:05:29.513033",
     "exception": false,
     "start_time": "2025-04-25T15:05:27.492595",
     "status": "completed"
    },
    "tags": []
   },
   "outputs": [],
   "source": [
    "\n",
    "\n",
    "import numpy as np # linear algebra\n",
    "import pandas as pd # data processing, CSV file I/O (e.g. pd.read_csv)\n",
    "import matplotlib.pyplot as plt # charts\n",
    "import statistics # median, mean, etc.\n",
    "import requests # For downloading the CSV"
   ]
  },
  {
   "cell_type": "markdown",
   "id": "ef43b3ff",
   "metadata": {
    "papermill": {
     "duration": 0.004421,
     "end_time": "2025-04-25T15:05:29.522468",
     "exception": false,
     "start_time": "2025-04-25T15:05:29.518047",
     "status": "completed"
    },
    "tags": []
   },
   "source": [
    "**Measures of central tendency and dispersion**"
   ]
  },
  {
   "cell_type": "code",
   "execution_count": 43,
   "id": "2762d36a",
   "metadata": {
    "execution": {
     "iopub.execute_input": "2025-04-25T15:05:29.532739Z",
     "iopub.status.busy": "2025-04-25T15:05:29.532309Z",
     "iopub.status.idle": "2025-04-25T15:05:30.234078Z",
     "shell.execute_reply": "2025-04-25T15:05:30.232600Z"
    },
    "papermill": {
     "duration": 0.709209,
     "end_time": "2025-04-25T15:05:30.236098",
     "exception": false,
     "start_time": "2025-04-25T15:05:29.526889",
     "status": "completed"
    },
    "tags": []
   },
   "outputs": [],
   "source": [
    "# CSV download\n",
    "url_amz=\"https://raw.githubusercontent.com/NechuBM/dataset/main/precios_amazon.csv\"\n",
    "response_amz = requests.get(url_amz)\n",
    "with open(\"precios_amazon.csv\", \"wb\") as f:\n",
    "    f.write(response_amz.content)\n",
    "\n",
    "\n",
    "url_eth=\"https://raw.githubusercontent.com/NechuBM/dataset/main/precios_ethereum.csv\"\n",
    "response_eth = requests.get(url_amz)\n",
    "with open(\"precios_ethereum.csv\", \"wb\") as f:\n",
    "    f.write(response_eth.content)"
   ]
  },
  {
   "cell_type": "code",
   "execution_count": 44,
   "id": "e44e668e",
   "metadata": {
    "execution": {
     "iopub.execute_input": "2025-04-25T15:05:30.247253Z",
     "iopub.status.busy": "2025-04-25T15:05:30.246265Z",
     "iopub.status.idle": "2025-04-25T15:05:30.317952Z",
     "shell.execute_reply": "2025-04-25T15:05:30.316564Z"
    },
    "papermill": {
     "duration": 0.079369,
     "end_time": "2025-04-25T15:05:30.319939",
     "exception": false,
     "start_time": "2025-04-25T15:05:30.240570",
     "status": "completed"
    },
    "tags": []
   },
   "outputs": [
    {
     "name": "stdout",
     "output_type": "stream",
     "text": [
      "              Open         High          Low        Close    Adj Close  \\\n",
      "count   295.000000   295.000000   295.000000   295.000000   295.000000   \n",
      "mean   3302.138885  3338.047183  3263.254206  3299.830896  3299.839902   \n",
      "std     195.144908   191.478427   201.148439   197.082087   197.078674   \n",
      "min    2733.669922  2805.000000  2671.449951  2720.290039  2720.290039   \n",
      "25%    3185.515015  3230.369995  3158.119995  3192.494995  3192.494995   \n",
      "50%    3317.000000  3347.800049  3288.899902  3312.530029  3312.530029   \n",
      "75%    3424.905029  3461.430054  3394.885010  3430.170044  3430.170044   \n",
      "max    3744.000000  3773.080078  3696.790039  3731.409912  3731.409912   \n",
      "\n",
      "             Volume  \n",
      "count  2.950000e+02  \n",
      "mean   3.472632e+06  \n",
      "std    1.377987e+06  \n",
      "min    1.680300e+06  \n",
      "25%    2.582100e+06  \n",
      "50%    3.185300e+06  \n",
      "75%    3.895600e+06  \n",
      "max    1.267280e+07  \n",
      "              Open         High          Low        Close    Adj Close  \\\n",
      "count   295.000000   295.000000   295.000000   295.000000   295.000000   \n",
      "mean   3302.138885  3338.047183  3263.254206  3299.830896  3299.839902   \n",
      "std     195.144908   191.478427   201.148439   197.082087   197.078674   \n",
      "min    2733.669922  2805.000000  2671.449951  2720.290039  2720.290039   \n",
      "25%    3185.515015  3230.369995  3158.119995  3192.494995  3192.494995   \n",
      "50%    3317.000000  3347.800049  3288.899902  3312.530029  3312.530029   \n",
      "75%    3424.905029  3461.430054  3394.885010  3430.170044  3430.170044   \n",
      "max    3744.000000  3773.080078  3696.790039  3731.409912  3731.409912   \n",
      "\n",
      "             Volume  \n",
      "count  2.950000e+02  \n",
      "mean   3.472632e+06  \n",
      "std    1.377987e+06  \n",
      "min    1.680300e+06  \n",
      "25%    2.582100e+06  \n",
      "50%    3.185300e+06  \n",
      "75%    3.895600e+06  \n",
      "max    1.267280e+07  \n"
     ]
    }
   ],
   "source": [
    "# Load and check the dataframes\n",
    "df_amz = pd.read_csv('precios_amazon.csv', sep=';', decimal=',')\n",
    "df_eth = pd.read_csv('precios_ethereum.csv', sep=';', decimal=',')\n",
    "\n",
    "print(df_amz.describe())\n",
    "print(df_eth.describe())"
   ]
  },
  {
   "cell_type": "code",
   "execution_count": 45,
   "id": "eaf1f61c",
   "metadata": {
    "execution": {
     "iopub.execute_input": "2025-04-25T15:05:30.331223Z",
     "iopub.status.busy": "2025-04-25T15:05:30.330864Z",
     "iopub.status.idle": "2025-04-25T15:05:30.338180Z",
     "shell.execute_reply": "2025-04-25T15:05:30.337472Z"
    },
    "papermill": {
     "duration": 0.015239,
     "end_time": "2025-04-25T15:05:30.340053",
     "exception": false,
     "start_time": "2025-04-25T15:05:30.324814",
     "status": "completed"
    },
    "tags": []
   },
   "outputs": [
    {
     "name": "stdout",
     "output_type": "stream",
     "text": [
      "295\n",
      "           Date        Open         High          Low        Close  \\\n",
      "266   18/2/2022  3109.98999  3109.989990  3017.860107  3052.030029   \n",
      "142   24/8/2021  3280.00000  3315.489990  3274.580078  3305.780029   \n",
      "246   21/1/2022  2999.00000  3018.000000  2841.409912  2852.860107   \n",
      "70    12/5/2021  3185.00000  3207.939941  3133.100098  3151.939941   \n",
      "186  26/10/2021  3349.51001  3416.120117  3343.979980  3376.070068   \n",
      "\n",
      "       Adj Close   Volume  \n",
      "266  3052.030029  3180200  \n",
      "142  3305.780029  2551800  \n",
      "246  2852.860107  8198600  \n",
      "70   3151.939941  4936400  \n",
      "186  3376.070068  2698300  \n"
     ]
    }
   ],
   "source": [
    "print(len(df_amz))\n",
    "print(df_amz.sample(5))\n",
    "\n",
    "# Just tell Pandas that we are using day/month/year instead of month/day/year on this DF\n",
    "df_amz['Date'] = pd.to_datetime(df_amz['Date'], format=\"%d/%m/%Y\")"
   ]
  },
  {
   "cell_type": "code",
   "execution_count": 46,
   "id": "51b1972b",
   "metadata": {
    "execution": {
     "iopub.execute_input": "2025-04-25T15:05:30.352075Z",
     "iopub.status.busy": "2025-04-25T15:05:30.351148Z",
     "iopub.status.idle": "2025-04-25T15:05:30.358196Z",
     "shell.execute_reply": "2025-04-25T15:05:30.357104Z"
    },
    "papermill": {
     "duration": 0.015032,
     "end_time": "2025-04-25T15:05:30.360112",
     "exception": false,
     "start_time": "2025-04-25T15:05:30.345080",
     "status": "completed"
    },
    "tags": []
   },
   "outputs": [
    {
     "name": "stdout",
     "output_type": "stream",
     "text": [
      "295\n",
      "          Date         Open         High          Low        Close  \\\n",
      "146  30/8/2021  3357.429932  3445.000000  3355.219971  3421.570068   \n",
      "66    6/5/2021  3270.000000  3314.399902  3247.199951  3306.370117   \n",
      "173  7/10/2021  3291.540039  3325.750000  3283.060059  3302.429932   \n",
      "156  14/9/2021  3475.550049  3486.810059  3437.709961  3450.000000   \n",
      "212  2/12/2021  3460.000000  3492.699951  3423.750000  3437.360107   \n",
      "\n",
      "       Adj Close   Volume  \n",
      "146  3421.570068  3192200  \n",
      "66   3306.370117  4447700  \n",
      "173  3302.429932  2409100  \n",
      "156  3450.000000  1936900  \n",
      "212  3437.360107  3236300  \n"
     ]
    }
   ],
   "source": [
    "print(len(df_eth))\n",
    "print(df_eth.sample(5))\n",
    "\n",
    "# Just tell Pandas that we are using day/month/year instead of month/day/year on this DF\n",
    "df_eth['Date'] = pd.to_datetime(df_eth['Date'], format=\"%d/%m/%Y\")"
   ]
  },
  {
   "cell_type": "code",
   "execution_count": 47,
   "id": "4db15b94",
   "metadata": {
    "execution": {
     "iopub.execute_input": "2025-04-25T15:05:30.372277Z",
     "iopub.status.busy": "2025-04-25T15:05:30.371869Z",
     "iopub.status.idle": "2025-04-25T15:05:30.378782Z",
     "shell.execute_reply": "2025-04-25T15:05:30.377643Z"
    },
    "papermill": {
     "duration": 0.014778,
     "end_time": "2025-04-25T15:05:30.380400",
     "exception": false,
     "start_time": "2025-04-25T15:05:30.365622",
     "status": "completed"
    },
    "tags": []
   },
   "outputs": [],
   "source": [
    "def discard_days(df, days):\n",
    "    \"\"\" Discard elements from the dataframe if they are included in the days list \"\"\"\n",
    "    # Make a copy to prevent changes in the original one\n",
    "    df_discard = df.copy()\n",
    "    \n",
    "    # reset the index\n",
    "    df_discard.reset_index(inplace=True)\n",
    "\n",
    "    # modify the format of the data in the column 'Date' to datetime\n",
    "    df_discard['Date'] = pd.to_datetime(df_discard['Date'])\n",
    "\n",
    "    # crea una nueva columna con los días de la semana a partir de la columna 'Date'\n",
    "    df_discard['Day'] = df_discard[\"Date\"].dt.day_name()\n",
    "\n",
    "    # descartar días que esten en la lista 'days'\n",
    "    df_discard = df_discard.loc[~df_discard['Day'].isin(days)]\n",
    "\n",
    "    return df_discard"
   ]
  },
  {
   "cell_type": "code",
   "execution_count": 48,
   "id": "cdcad41a",
   "metadata": {
    "execution": {
     "iopub.execute_input": "2025-04-25T15:05:30.392022Z",
     "iopub.status.busy": "2025-04-25T15:05:30.391676Z",
     "iopub.status.idle": "2025-04-25T15:05:30.413834Z",
     "shell.execute_reply": "2025-04-25T15:05:30.412644Z"
    },
    "papermill": {
     "duration": 0.030122,
     "end_time": "2025-04-25T15:05:30.415731",
     "exception": false,
     "start_time": "2025-04-25T15:05:30.385609",
     "status": "completed"
    },
    "tags": []
   },
   "outputs": [],
   "source": [
    "df_eth_week = discard_days(df_eth, ['Saturday', 'Sunday'])"
   ]
  },
  {
   "cell_type": "code",
   "execution_count": 49,
   "id": "cf125d3d",
   "metadata": {
    "execution": {
     "iopub.execute_input": "2025-04-25T15:05:30.427477Z",
     "iopub.status.busy": "2025-04-25T15:05:30.426358Z",
     "iopub.status.idle": "2025-04-25T15:05:30.432998Z",
     "shell.execute_reply": "2025-04-25T15:05:30.432036Z"
    },
    "papermill": {
     "duration": 0.014087,
     "end_time": "2025-04-25T15:05:30.434768",
     "exception": false,
     "start_time": "2025-04-25T15:05:30.420681",
     "status": "completed"
    },
    "tags": []
   },
   "outputs": [
    {
     "data": {
      "text/plain": [
       "295"
      ]
     },
     "execution_count": 49,
     "metadata": {},
     "output_type": "execute_result"
    }
   ],
   "source": [
    "# We have killed the weekends from the DataFrame\n",
    "len(df_eth_week) \n",
    "\n",
    "# We could also clear the festives in which Amazon is not operating in the stock market... but is not necessary for the purpose of this small exercise"
   ]
  },
  {
   "cell_type": "code",
   "execution_count": 50,
   "id": "cd143b22",
   "metadata": {
    "execution": {
     "iopub.execute_input": "2025-04-25T15:05:30.447038Z",
     "iopub.status.busy": "2025-04-25T15:05:30.446105Z",
     "iopub.status.idle": "2025-04-25T15:05:30.451175Z",
     "shell.execute_reply": "2025-04-25T15:05:30.450358Z"
    },
    "papermill": {
     "duration": 0.012687,
     "end_time": "2025-04-25T15:05:30.452715",
     "exception": false,
     "start_time": "2025-04-25T15:05:30.440028",
     "status": "completed"
    },
    "tags": []
   },
   "outputs": [],
   "source": [
    "# Get Amazon's daily closing price\n",
    "prices_amz = df_amz['Close'].tolist()\n",
    "prices_eth = df_eth_week['Close'].tolist()"
   ]
  },
  {
   "cell_type": "code",
   "execution_count": 51,
   "id": "d5c84446",
   "metadata": {
    "execution": {
     "iopub.execute_input": "2025-04-25T15:05:30.465076Z",
     "iopub.status.busy": "2025-04-25T15:05:30.464136Z",
     "iopub.status.idle": "2025-04-25T15:05:30.472055Z",
     "shell.execute_reply": "2025-04-25T15:05:30.470973Z"
    },
    "papermill": {
     "duration": 0.015856,
     "end_time": "2025-04-25T15:05:30.473798",
     "exception": false,
     "start_time": "2025-04-25T15:05:30.457942",
     "status": "completed"
    },
    "tags": []
   },
   "outputs": [
    {
     "name": "stdout",
     "output_type": "stream",
     "text": [
      "Amazon. Median: 3313, Mean: 3300\n",
      "Ethereum. Median: 3313, Mean: 3300\n"
     ]
    }
   ],
   "source": [
    "# Amazon\n",
    "median_amz = round(statistics.median(prices_amz))\n",
    "mean_amz = round(statistics.mean(prices_amz))        \n",
    "print(f\"Amazon. Median: {median_amz}, Mean: {mean_amz}\")\n",
    "\n",
    "prices_amz_red = []\n",
    "for value in prices_amz:\n",
    "    prices_amz_red.append(round(value))\n",
    "    \n",
    "\n",
    "\n",
    "# Ethereum\n",
    "median_eth = round(statistics.median(prices_eth))\n",
    "mean_eth = round(statistics.mean(prices_eth))\n",
    "print(f\"Ethereum. Median: {median_eth}, Mean: {mean_eth}\")\n",
    "\n",
    "\n",
    "prices_eth_red = []\n",
    "for value in prices_eth:\n",
    "    prices_eth_red.append(round(value))"
   ]
  },
  {
   "cell_type": "code",
   "execution_count": 52,
   "id": "978d89d8",
   "metadata": {
    "execution": {
     "iopub.execute_input": "2025-04-25T15:05:30.485130Z",
     "iopub.status.busy": "2025-04-25T15:05:30.484755Z",
     "iopub.status.idle": "2025-04-25T15:05:30.491297Z",
     "shell.execute_reply": "2025-04-25T15:05:30.490354Z"
    },
    "papermill": {
     "duration": 0.014097,
     "end_time": "2025-04-25T15:05:30.492836",
     "exception": false,
     "start_time": "2025-04-25T15:05:30.478739",
     "status": "completed"
    },
    "tags": []
   },
   "outputs": [
    {
     "name": "stdout",
     "output_type": "stream",
     "text": [
      "Amazon's Median: 3313\n",
      "Ethereum's Median: 3313\n"
     ]
    }
   ],
   "source": [
    "# Just for fun, get the median \"manually\"\n",
    "# Amazon's\n",
    "pric_amz_ord = sorted(prices_amz)\n",
    "amz_len = round(len(pric_amz_ord) / 2)\n",
    "median_amz = round(pric_amz_ord[amz_len])\n",
    "print(f\"Amazon's Median: {median_amz}\")\n",
    "\n",
    "\n",
    "# Ethereum's\n",
    "pric_eth_ord = sorted(prices_eth)\n",
    "eth_len = round(len(pric_eth_ord) / 2)\n",
    "median_eth = round(pric_eth_ord[eth_len])\n",
    "print(f\"Ethereum's Median: {median_eth}\")"
   ]
  },
  {
   "cell_type": "code",
   "execution_count": 53,
   "id": "e9dd24e6",
   "metadata": {
    "execution": {
     "iopub.execute_input": "2025-04-25T15:05:30.504033Z",
     "iopub.status.busy": "2025-04-25T15:05:30.503619Z",
     "iopub.status.idle": "2025-04-25T15:05:30.510354Z",
     "shell.execute_reply": "2025-04-25T15:05:30.509234Z"
    },
    "papermill": {
     "duration": 0.014491,
     "end_time": "2025-04-25T15:05:30.512222",
     "exception": false,
     "start_time": "2025-04-25T15:05:30.497731",
     "status": "completed"
    },
    "tags": []
   },
   "outputs": [],
   "source": [
    "# Get the mode\n",
    "\n",
    "mode_amz = statistics.mode(prices_amz_red)\n",
    "mode_eth = statistics.mode(prices_eth_red)"
   ]
  },
  {
   "cell_type": "code",
   "execution_count": 54,
   "id": "b2958e21",
   "metadata": {
    "execution": {
     "iopub.execute_input": "2025-04-25T15:05:30.523152Z",
     "iopub.status.busy": "2025-04-25T15:05:30.522822Z",
     "iopub.status.idle": "2025-04-25T15:05:30.527856Z",
     "shell.execute_reply": "2025-04-25T15:05:30.526712Z"
    },
    "papermill": {
     "duration": 0.012667,
     "end_time": "2025-04-25T15:05:30.529735",
     "exception": false,
     "start_time": "2025-04-25T15:05:30.517068",
     "status": "completed"
    },
    "tags": []
   },
   "outputs": [
    {
     "name": "stdout",
     "output_type": "stream",
     "text": [
      "Amazon mode: 3224\n",
      "Ethereum mode: 3224\n"
     ]
    }
   ],
   "source": [
    "print(f\"Amazon mode: {mode_amz}\")\n",
    "print(f\"Ethereum mode: {mode_eth}\")"
   ]
  },
  {
   "cell_type": "code",
   "execution_count": 55,
   "id": "67af8f1b",
   "metadata": {
    "execution": {
     "iopub.execute_input": "2025-04-25T15:05:30.542125Z",
     "iopub.status.busy": "2025-04-25T15:05:30.541785Z",
     "iopub.status.idle": "2025-04-25T15:05:30.560636Z",
     "shell.execute_reply": "2025-04-25T15:05:30.559651Z"
    },
    "papermill": {
     "duration": 0.026685,
     "end_time": "2025-04-25T15:05:30.562236",
     "exception": false,
     "start_time": "2025-04-25T15:05:30.535551",
     "status": "completed"
    },
    "tags": []
   },
   "outputs": [
    {
     "name": "stdout",
     "output_type": "stream",
     "text": [
      "     Median  Mean  Mode\n",
      "AMZ    3313  3300  3224\n",
      "ETH    3313  3300  3224\n"
     ]
    }
   ],
   "source": [
    "# For practice, build a little dataset with all the information and show as a table\n",
    "table = pd.DataFrame(\n",
    "    [\n",
    "        [median_amz, mean_amz, mode_amz],\n",
    "        [median_eth, mean_eth, mode_eth]\n",
    "    ],\n",
    "    index=['AMZ', 'ETH'],\n",
    "    columns=['Median', 'Mean', 'Mode']\n",
    ")\n",
    "\n",
    "print(table)"
   ]
  },
  {
   "cell_type": "markdown",
   "id": "e214f6ba",
   "metadata": {
    "papermill": {
     "duration": 0.004596,
     "end_time": "2025-04-25T15:05:30.572117",
     "exception": false,
     "start_time": "2025-04-25T15:05:30.567521",
     "status": "completed"
    },
    "tags": []
   },
   "source": [
    "**Histogram chart**"
   ]
  },
  {
   "cell_type": "code",
   "execution_count": 56,
   "id": "e040ddb0",
   "metadata": {
    "execution": {
     "iopub.execute_input": "2025-04-25T15:05:30.583930Z",
     "iopub.status.busy": "2025-04-25T15:05:30.583262Z",
     "iopub.status.idle": "2025-04-25T15:05:30.837875Z",
     "shell.execute_reply": "2025-04-25T15:05:30.836742Z"
    },
    "papermill": {
     "duration": 0.262358,
     "end_time": "2025-04-25T15:05:30.839430",
     "exception": false,
     "start_time": "2025-04-25T15:05:30.577072",
     "status": "completed"
    },
    "tags": []
   },
   "outputs": [
    {
     "data": {
      "image/png": "[encoded data removed]",
      "text/plain": [
       "<Figure size 640x480 with 1 Axes>"
      ]
     },
     "metadata": {},
     "output_type": "display_data"
    }
   ],
   "source": [
    "#bin_size = round((max(prices_amz) - min(prices_amz)) / len(prices_amz))\n",
    "#print(bin_size)\n",
    "#plt.hist(prices_amz, bins=bin_size)\n",
    "\n",
    "plt.hist(prices_amz)\n",
    "plt.show()"
   ]
  },
  {
   "cell_type": "code",
   "execution_count": 57,
   "id": "eb1f7fb5",
   "metadata": {
    "execution": {
     "iopub.execute_input": "2025-04-25T15:05:30.852544Z",
     "iopub.status.busy": "2025-04-25T15:05:30.852245Z",
     "iopub.status.idle": "2025-04-25T15:05:31.371815Z",
     "shell.execute_reply": "2025-04-25T15:05:31.370681Z"
    },
    "papermill": {
     "duration": 0.528292,
     "end_time": "2025-04-25T15:05:31.373550",
     "exception": false,
     "start_time": "2025-04-25T15:05:30.845258",
     "status": "completed"
    },
    "tags": []
   },
   "outputs": [
    {
     "name": "stdout",
     "output_type": "stream",
     "text": [
      "Amazon's variance: 38709.683606697006\n",
      "Ethereum's variance: 38709.683606697006\n",
      "Amazon's coefficient of variation (CV): 0.05938658812533453\n",
      "Ethereum's coefficient of variation (CV): 0.05938658812533453\n"
     ]
    },
    {
     "data": {
      "image/png": "[encoded data removed]",
      "text/plain": [
       "<Figure size 1500x500 with 2 Axes>"
      ]
     },
     "metadata": {},
     "output_type": "display_data"
    }
   ],
   "source": [
    "# We set the histograms up in a way that we are comparing them the right way\n",
    "# without distortions\n",
    "\n",
    "# 2 histograms is better than one, we use plt.subplots for that purpose\n",
    "fig, (ax1, ax2) = plt.subplots(nrows=1, ncols=2, figsize=(15, 5)) \n",
    "ax1.hist(prices_amz, bins=15)    # AMZ histogram. dataframe, num of bins\n",
    "ax1.set_title('Amazon prices')   # title\n",
    "ax1.set_xlim(1000, 5000)         # personalize X rank\n",
    "ax1.set_ylim(0, 60)              # personalize Y rank\n",
    "\n",
    "ax2.hist(prices_eth, bins=15)    # ETH histogram\n",
    "ax2.set_title('Ethereum prices')\n",
    "ax2.set_xlim(1000, 5000)\n",
    "ax2.set_ylim(0, 60)\n",
    "\n",
    "fig.suptitle('Prices Histogram') # just a fancy title\n",
    "\n",
    "# And there we can see that the AMZ price is much less volatile than ETH\n",
    "# as the variance will confirm\n",
    "AMZ_variance = np.var(prices_amz)\n",
    "print(f\"Amazon's variance: {AMZ_variance}\")\n",
    "\n",
    "ETH_variance = np.var(prices_eth)\n",
    "print(f\"Ethereum's variance: {ETH_variance}\")\n",
    "\n",
    "# But never compare variance of numbers with different scales.. \n",
    "#(ETH price is very different from AMZ's..)... let's rely on the \n",
    "# coefficient of variation (CV = std / mean)\n",
    "amz_cv = np.sqrt(AMZ_variance) / median_amz\n",
    "print(f\"Amazon's coefficient of variation (CV): {amz_cv}\")\n",
    "\n",
    "eth_cv = np.sqrt(ETH_variance) / median_eth\n",
    "print(f\"Ethereum's coefficient of variation (CV): {eth_cv}\")\n",
    "\n",
    "# Here we can compare apples with apples (AMZ CV = 0.059, ETH CV = 0.29)\n",
    "# so f**k yeah, ETH has a much higher variance (quite obvious  by now)"
   ]
  },
  {
   "cell_type": "markdown",
   "id": "57b263bc",
   "metadata": {
    "papermill": {
     "duration": 0.005558,
     "end_time": "2025-04-25T15:05:31.385714",
     "exception": false,
     "start_time": "2025-04-25T15:05:31.380156",
     "status": "completed"
    },
    "tags": []
   },
   "source": [
    "**Dispersion measures**\n",
    "* Maximum\n",
    "* Minimum\n",
    "* Third quartile (Q3)\n",
    "* Second quartile (Q2 - mean)\n",
    "* First quaritle (Q1)\n",
    "* Minimum"
   ]
  },
  {
   "cell_type": "code",
   "execution_count": 58,
   "id": "2d9568c5",
   "metadata": {
    "execution": {
     "iopub.execute_input": "2025-04-25T15:05:31.399253Z",
     "iopub.status.busy": "2025-04-25T15:05:31.398078Z",
     "iopub.status.idle": "2025-04-25T15:05:31.407446Z",
     "shell.execute_reply": "2025-04-25T15:05:31.406064Z"
    },
    "papermill": {
     "duration": 0.017935,
     "end_time": "2025-04-25T15:05:31.409354",
     "exception": false,
     "start_time": "2025-04-25T15:05:31.391419",
     "status": "completed"
    },
    "tags": []
   },
   "outputs": [
    {
     "name": "stdout",
     "output_type": "stream",
     "text": [
      "[9, 12, 12, 33, 95, 100, 100, 105, 110, 120, 250, 840]\n",
      "Median = Q2:  100.0\n",
      "Max:  840\n",
      "Min:  9\n",
      "Q1:  22.5\n",
      "Q3:  115.0\n",
      "Range:  831\n",
      "Interquartile range (IQR) = Q3-Q1:  92.5\n"
     ]
    }
   ],
   "source": [
    "# Data to play with\n",
    "data = [110, 105, 100, 840, 95, 100, 120, 250, 12, 9, 12, 33]\n",
    "\n",
    "# Sort from small to big (not necessary for the numpies methods obviously)\n",
    "# is just to make comprehensive how it works behind the methods\n",
    "data.sort()\n",
    "print(data)\n",
    "\n",
    "median = np.median(data) # 12 elements, = (100 + 100) / 2 = 100\n",
    "q1 = np.quantile(data, 0.25, method='midpoint') # (33 + 12) / 2 = 22.5\n",
    "q3 = np.quantile(data, 0.75, method='midpoint') # (110 + 120) / 2 = 115\n",
    "data_range = max(data) - min(data)\n",
    "IQR = q3 - q1\n",
    "\n",
    "print('Median = Q2: ', median)\n",
    "print('Max: ', max(data))\n",
    "print('Min: ', min(data))\n",
    "print('Q1: ', q1)\n",
    "print('Q3: ', q3)\n",
    "print('Range: ', data_range)\n",
    "print('Interquartile range (IQR) = Q3-Q1: ', IQR)"
   ]
  },
  {
   "cell_type": "markdown",
   "id": "f2df4720",
   "metadata": {
    "papermill": {
     "duration": 0.005845,
     "end_time": "2025-04-25T15:05:31.421690",
     "exception": false,
     "start_time": "2025-04-25T15:05:31.415845",
     "status": "completed"
    },
    "tags": []
   },
   "source": [
    "**Boxplot**\n",
    "* Main box that goes from the inferior limit of Q1 to the upper limit of Q3\n",
    "* The Median lives between Q1 and Q3 (doesn't need to be exactly in between)\n",
    "* Whiskers: starts in Q1 till the min value, and in Q3 till the max value\n",
    "* Otuliers: extra, next steps.."
   ]
  },
  {
   "cell_type": "code",
   "execution_count": 63,
   "id": "7941db31",
   "metadata": {
    "execution": {
     "iopub.execute_input": "2025-04-25T15:05:31.435749Z",
     "iopub.status.busy": "2025-04-25T15:05:31.434938Z",
     "iopub.status.idle": "2025-04-25T15:05:31.735133Z",
     "shell.execute_reply": "2025-04-25T15:05:31.734100Z"
    },
    "papermill": {
     "duration": 0.309209,
     "end_time": "2025-04-25T15:05:31.736899",
     "exception": false,
     "start_time": "2025-04-25T15:05:31.427690",
     "status": "completed"
    },
    "tags": []
   },
   "outputs": [
    {
     "name": "stdout",
     "output_type": "stream",
     "text": [
      "         Min       Q1   Median       Q3          Max\n",
      "AMZ  2720.29  3192.49  3312.53  3430.17  3731.409912\n",
      "ETH  2720.29  3192.49  3312.53  3430.17  3731.409912\n"
     ]
    },
    {
     "data": {
      "image/png": "[encoded data removed]",
      "text/plain": [
       "<Figure size 640x480 with 2 Axes>"
      ]
     },
     "metadata": {},
     "output_type": "display_data"
    }
   ],
   "source": [
    "import matplotlib.pyplot as plt\n",
    "import numpy as np\n",
    "import pandas as pd\n",
    "\n",
    "# Let's get the values for both ETH and AMZ\n",
    "# prices_amz and prices_eth are lists with pricing ranges\n",
    "\n",
    "# Matplotlib boxplot does the hard work for us\n",
    "figs, axs = plt.subplots(nrows=1, ncols=2)\n",
    "\n",
    "y_min = 2600\n",
    "y_max = 3800\n",
    "\n",
    "axs[0].boxplot(prices_amz)\n",
    "axs[0].set_title('AMZ prices')\n",
    "axs[0].set_ylim(y_min, y_max)\n",
    "axs[1].boxplot(prices_eth)\n",
    "axs[1].set_title('ETH prices')\n",
    "axs[1].set_ylim(y_min, y_max)\n",
    "\n",
    "# Let's do the calculations \"manually\" to compare\n",
    "\n",
    "# median\n",
    "median_amz = round(np.median(prices_amz), 2)\n",
    "median_eth = round(np.median(prices_eth), 2)\n",
    "\n",
    "# min\n",
    "min_amz = round(min(prices_amz), 2)\n",
    "min_eth = round(min(prices_eth), 2)\n",
    "\n",
    "# max\n",
    "max_amz = max(prices_amz)\n",
    "max_eth = max(prices_eth)\n",
    "\n",
    "# Q1 / Q3\n",
    "q1_amz = round(np.quantile(prices_amz, 0.25, method='midpoint'), 2)\n",
    "q3_amz = round(np.quantile(prices_amz, 0.75, method='midpoint'), 2)\n",
    "q1_eth = round(np.quantile(prices_eth, 0.25, method='midpoint'), 2)\n",
    "q3_eth = round(np.quantile(prices_eth, 0.75, method='midpoint'), 2)\n",
    "\n",
    "df = pd.DataFrame([\n",
    "        [min_amz, q1_amz, median_amz, q3_amz, max_amz],\n",
    "        [min_eth, q1_eth, median_eth, q3_eth, max_eth]\n",
    "    ],\n",
    "    columns = ['Min', 'Q1', 'Median', 'Q3', 'Max'],\n",
    "    index = ['AMZ', 'ETH']\n",
    ")\n",
    "\n",
    "print(df)\n",
    "\n",
    "# The chart confirms the clear concentration of AMZ prices compared to ETH. \n",
    "# AMZ appears much more stable, both in terms of total range (max-min) \n",
    "# and interquartile range (Q3−Q1). \n",
    "# We'll handle the outliers later on."
   ]
  },
  {
   "cell_type": "markdown",
   "id": "762fe946",
   "metadata": {
    "papermill": {
     "duration": 0.006495,
     "end_time": "2025-04-25T15:05:31.750425",
     "exception": false,
     "start_time": "2025-04-25T15:05:31.743930",
     "status": "completed"
    },
    "tags": []
   },
   "source": [
    "**Outliers**"
   ]
  },
  {
   "cell_type": "code",
   "execution_count": 60,
   "id": "c7690fbf",
   "metadata": {
    "execution": {
     "iopub.execute_input": "2025-04-25T15:05:31.765066Z",
     "iopub.status.busy": "2025-04-25T15:05:31.764771Z",
     "iopub.status.idle": "2025-04-25T15:05:31.773602Z",
     "shell.execute_reply": "2025-04-25T15:05:31.772371Z"
    },
    "papermill": {
     "duration": 0.018027,
     "end_time": "2025-04-25T15:05:31.775115",
     "exception": false,
     "start_time": "2025-04-25T15:05:31.757088",
     "status": "completed"
    },
    "tags": []
   },
   "outputs": [
    {
     "name": "stdout",
     "output_type": "stream",
     "text": [
      "Lower mild fence (AMZ):  [2799.719971, 2777.449951, 2792.75, 2776.909912, 2749.060059, 2720.290039, 2785.580078]\n",
      "Lower mild fence (ETH):  [2799.719971, 2777.449951, 2792.75, 2776.909912, 2749.060059, 2720.290039, 2785.580078]\n",
      "Upper mild fence (AMZ):  []\n",
      "Upper mild fence (ETH):  []\n"
     ]
    }
   ],
   "source": [
    "# Interquartile Range (IQR)\n",
    "amz_IQR = q3_amz - q1_amz\n",
    "eth_IQR = q3_eth - q1_eth\n",
    "\n",
    "# Lower mild fence (boundary for mild outliers on the lower side)\n",
    "amz_iqr_lowerbound = q1_amz - 1.5 * amz_IQR\n",
    "eth_iqr_lowerbound = q1_eth - 1.5 * eth_IQR\n",
    "\n",
    "def printLBOutliers(prices, lowerMildFence):\n",
    "    outliers_lower_inf = []\n",
    "    \n",
    "    for price in prices:\n",
    "        if price < lowerMildFence:\n",
    "            outliers_lower_inf.append(price)\n",
    "\n",
    "    return outliers_lower_inf\n",
    "\n",
    "\n",
    "print(\"Lower mild fence (AMZ): \", printLBOutliers(prices_amz, amz_iqr_lowerbound))\n",
    "print(\"Lower mild fence (ETH): \", printLBOutliers(prices_eth, eth_iqr_lowerbound))\n",
    "\n",
    "# Upper mild fence (boundary for mild outliers on the upper side)\n",
    "amz_iqr_upperbound = q3_amz + 1.5 * amz_IQR\n",
    "eth_iqr_upperbound = q3_eth + 1.5 * eth_IQR\n",
    "\n",
    "def printUPOutliers(prices, upperMildFence):\n",
    "    outliers_upper_inf = []\n",
    "    \n",
    "    for price in prices:\n",
    "        if price > upperMildFence:\n",
    "            outliers_upper_inf.append(price)\n",
    "\n",
    "    return outliers_upper_inf\n",
    "\n",
    "print(\"Upper mild fence (AMZ): \", printUPOutliers(prices_amz, amz_iqr_upperbound))\n",
    "print(\"Upper mild fence (ETH): \", printUPOutliers(prices_eth, eth_iqr_upperbound))\n",
    "\n",
    "# Which makes sense with the boxplots above"
   ]
  }
 ],
 "metadata": {
  "kaggle": {
   "accelerator": "none",
   "dataSources": [],
   "dockerImageVersionId": 31012,
   "isGpuEnabled": false,
   "isInternetEnabled": true,
   "language": "python",
   "sourceType": "notebook"
  },
  "kernelspec": {
   "display_name": "Python 3",
   "language": "python",
   "name": "python3"
  },
  "language_info": {
   "codemirror_mode": {
    "name": "ipython",
    "version": 3
   },
   "file_extension": ".py",
   "mimetype": "text/x-python",
   "name": "python",
   "nbconvert_exporter": "python",
   "pygments_lexer": "ipython3",
   "version": "3.13.1"
  },
  "papermill": {
   "default_parameters": {},
   "duration": 9.932468,
   "end_time": "2025-04-25T15:05:32.403911",
   "environment_variables": {},
   "exception": null,
   "input_path": "__notebook__.ipynb",
   "output_path": "__notebook__.ipynb",
   "parameters": {},
   "start_time": "2025-04-25T15:05:22.471443",
   "version": "2.6.0"
  }
 },
 "nbformat": 4,
 "nbformat_minor": 5
}
